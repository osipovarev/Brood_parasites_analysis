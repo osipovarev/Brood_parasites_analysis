{
 "cells": [
  {
   "cell_type": "code",
   "execution_count": 1,
   "id": "partial-antarctica",
   "metadata": {},
   "outputs": [
    {
     "name": "stdout",
     "output_type": "stream",
     "text": [
      "Collecting msprime\n",
      "\u001b[?25l  Downloading https://files.pythonhosted.org/packages/6f/1f/fbf05623b5df2e97768cba7c7b55a83765051097fe33ae817f2dbe363d1c/msprime-1.2.0-cp37-cp37m-macosx_10_15_x86_64.whl (1.4MB)\n",
      "\u001b[K     |████████████████████████████████| 1.4MB 3.8MB/s eta 0:00:01\n",
      "\u001b[?25hRequirement already satisfied: numpy in /Users/osipova/local/Homebrew/lib/python3.7/site-packages (from msprime) (1.18.2)\n",
      "Collecting newick>=1.3.0\n",
      "  Downloading https://files.pythonhosted.org/packages/7d/32/2c71e873773a86abc2820fe3813372f9c53f6e5b8c1e42f69f2d82cd0221/newick-1.9.0-py2.py3-none-any.whl\n",
      "Collecting demes>=0.2\n",
      "\u001b[?25l  Downloading https://files.pythonhosted.org/packages/70/e2/7520ba6ae29d7923a1d1710ad210a2eb8264c40c9dbd3a72f3c4a7be157a/demes-0.2.3-py3-none-any.whl (40kB)\n",
      "\u001b[K     |████████████████████████████████| 40kB 22.3MB/s eta 0:00:01\n",
      "\u001b[?25hCollecting tskit>=0.4.0\n",
      "\u001b[?25l  Downloading https://files.pythonhosted.org/packages/a0/02/6eb6d1fee661753bff8d5c8c74a3a7e74164ffae11861aba2585c4ee8e67/tskit-0.5.5-cp37-cp37m-macosx_10_15_x86_64.whl (451kB)\n",
      "\u001b[K     |████████████████████████████████| 460kB 37.9MB/s eta 0:00:01\n",
      "\u001b[?25hCollecting attrs>=20.3.0\n",
      "\u001b[?25l  Downloading https://files.pythonhosted.org/packages/6a/21/5b6702a7f963e95456c0de2d495f67bf5fd62840ac655dc451586d23d39a/attrs-24.2.0-py3-none-any.whl (63kB)\n",
      "\u001b[K     |████████████████████████████████| 71kB 20.2MB/s eta 0:00:01\n",
      "\u001b[?25hCollecting ruamel.yaml>=0.15.78\n",
      "\u001b[?25l  Downloading https://files.pythonhosted.org/packages/73/67/8ece580cc363331d9a53055130f86b096bf16e38156e33b1d3014fffda6b/ruamel.yaml-0.18.6-py3-none-any.whl (117kB)\n",
      "\u001b[K     |████████████████████████████████| 122kB 18.4MB/s eta 0:00:01\n",
      "\u001b[?25hRequirement already satisfied: jsonschema>=3.0.0 in /Users/osipova/local/Homebrew/lib/python3.7/site-packages (from tskit>=0.4.0->msprime) (3.2.0)\n",
      "Collecting svgwrite>=1.1.10\n",
      "\u001b[?25l  Downloading https://files.pythonhosted.org/packages/84/15/640e399579024a6875918839454025bb1d5f850bb70d96a11eabb644d11c/svgwrite-1.4.3-py3-none-any.whl (67kB)\n",
      "\u001b[K     |████████████████████████████████| 71kB 12.1MB/s eta 0:00:01\n",
      "\u001b[?25hRequirement already satisfied: importlib-metadata; python_version < \"3.8\" in /Users/osipova/local/Homebrew/lib/python3.7/site-packages (from attrs>=20.3.0->demes>=0.2->msprime) (3.4.0)\n",
      "Collecting ruamel.yaml.clib>=0.2.7; platform_python_implementation == \"CPython\" and python_version < \"3.13\"\n",
      "\u001b[?25l  Downloading https://files.pythonhosted.org/packages/d6/cf/7a97045dd4ece8b4ab692e9b4393edf811174ecd39dcaa0231f42099849b/ruamel.yaml.clib-0.2.8-cp37-cp37m-macosx_10_9_x86_64.whl (144kB)\n",
      "\u001b[K     |████████████████████████████████| 153kB 45.9MB/s eta 0:00:01\n",
      "\u001b[?25hRequirement already satisfied: setuptools in /Users/osipova/local/Homebrew/lib/python3.7/site-packages (from jsonschema>=3.0.0->tskit>=0.4.0->msprime) (41.6.0)\n",
      "Requirement already satisfied: six>=1.11.0 in /Users/osipova/Library/Python/3.7/lib/python/site-packages (from jsonschema>=3.0.0->tskit>=0.4.0->msprime) (1.11.0)\n",
      "Requirement already satisfied: pyrsistent>=0.14.0 in /Users/osipova/local/Homebrew/lib/python3.7/site-packages (from jsonschema>=3.0.0->tskit>=0.4.0->msprime) (0.17.3)\n",
      "Requirement already satisfied: typing-extensions>=3.6.4; python_version < \"3.8\" in /Users/osipova/local/Homebrew/lib/python3.7/site-packages (from importlib-metadata; python_version < \"3.8\"->attrs>=20.3.0->demes>=0.2->msprime) (3.7.4.3)\n",
      "Requirement already satisfied: zipp>=0.5 in /Users/osipova/local/Homebrew/lib/python3.7/site-packages (from importlib-metadata; python_version < \"3.8\"->attrs>=20.3.0->demes>=0.2->msprime) (3.4.0)\n",
      "Installing collected packages: newick, attrs, ruamel.yaml.clib, ruamel.yaml, demes, svgwrite, tskit, msprime\n",
      "  Found existing installation: attrs 17.4.0\n",
      "    Uninstalling attrs-17.4.0:\n",
      "      Successfully uninstalled attrs-17.4.0\n",
      "Successfully installed attrs-24.2.0 demes-0.2.3 msprime-1.2.0 newick-1.9.0 ruamel.yaml-0.18.6 ruamel.yaml.clib-0.2.8 svgwrite-1.4.3 tskit-0.5.5\n"
     ]
    }
   ],
   "source": [
    "!pip3 install msprime"
   ]
  },
  {
   "cell_type": "code",
   "execution_count": 8,
   "id": "received-reducing",
   "metadata": {},
   "outputs": [],
   "source": [
    "import msprime\n",
    "import numpy as np"
   ]
  },
  {
   "cell_type": "code",
   "execution_count": 20,
   "id": "bottom-photography",
   "metadata": {},
   "outputs": [
    {
     "name": "stdout",
     "output_type": "stream",
     "text": [
      "Polarization complete. Polarized VCF file 'polarized_simulated_data.vcf' generated.\n"
     ]
    }
   ],
   "source": [
    "\n",
    "# Define parameters\n",
    "population_size = 100000\n",
    "outgroup_size = 1   # Single individual for the outgroup\n",
    "num_individuals = 10  # Number of diploid individuals\n",
    "chromosome_length = 10_000_000\n",
    "mutation_rate = 1e-8\n",
    "recombination_rate = 1e-8\n",
    "divergence_time = 10000000  # Time of divergence in generations for the outgroup\n",
    "\n",
    "# Setup demography, including an outgroup\n",
    "demography = msprime.Demography()\n",
    "demography.add_population(name=\"ingroup\", initial_size=population_size)\n",
    "demography.add_population(name=\"outgroup\", initial_size=outgroup_size)\n",
    "demography.add_population_split(time=divergence_time, derived=[\"ingroup\"], ancestral=\"outgroup\")\n",
    "\n",
    "# Simulate the tree sequence\n",
    "tree_sequence = msprime.sim_ancestry(\n",
    "    samples={\"ingroup\": num_individuals, \"outgroup\": 1},  # One haploid outgroup\n",
    "    ploidy=2,  # Haploid to manage samples as individual haplotypes\n",
    "    demography=demography,\n",
    "    sequence_length=chromosome_length,\n",
    "    recombination_rate=recombination_rate,\n",
    "    random_seed=42\n",
    ")\n",
    "\n",
    "# Introduce mutations on the tree sequence\n",
    "mutated_ts = msprime.sim_mutations(\n",
    "    tree_sequence,\n",
    "    rate=mutation_rate,\n",
    "    random_seed=42\n",
    ")\n",
    "\n",
    "# Extract mutational data and polarize\n",
    "ancestor_map = {}\n",
    "for variant in mutated_ts.variants():\n",
    "    # Using outgroup sample index, find its allele\n",
    "    outgroup_allele = variant.genotypes[-1]\n",
    "    ancestral_allele = variant.alleles[outgroup_allele]\n",
    "    ancestor_map[variant.site.position] = ancestral_allele\n",
    "\n",
    "# Write the VCF\n",
    "output_vcf = \"simulated_data.vcf\"\n",
    "with open(output_vcf, \"w\") as vcf_file:\n",
    "    mutated_ts.write_vcf(vcf_file)\n",
    "\n",
    "# Reading and updating VCF to add ancestral info\n",
    "with open(output_vcf, \"r\") as vcf_input, open(\"polarized_\" + output_vcf, \"w\") as vcf_output:\n",
    "    for line in vcf_input:\n",
    "        if line.startswith(\"#\"):\n",
    "            # Add an extra header line for ancestral state information\n",
    "            if line.startswith(\"#CHROM\"):\n",
    "                vcf_output.write(\"##INFO=<ID=AA,Number=1,Type=String,Description=\\\"Ancestral Allele\\\">\\n\")\n",
    "            vcf_output.write(line)\n",
    "        else:\n",
    "            # Find the position and look up the ancestral allele for that position\n",
    "            fields = line.strip().split(\"\\t\")\n",
    "            pos = int(fields[1])\n",
    "            ancestral_allele = ancestor_map.get(pos, '.')\n",
    "\n",
    "            # Append the ancestral allele info to the INFO field\n",
    "            fields[7] = f\"{fields[7]};AA={ancestral_allele}\"\n",
    "            vcf_output.write(\"\\t\".join(fields) + \"\\n\")\n",
    "\n",
    "print(\"Polarization complete. Polarized VCF file 'polarized_simulated_data.vcf' generated.\")"
   ]
  },
  {
   "cell_type": "code",
   "execution_count": 11,
   "id": "unnecessary-princess",
   "metadata": {},
   "outputs": [
    {
     "name": "stdout",
     "output_type": "stream",
     "text": [
      "Simulation complete. VCF file 'simulated_data.vcf' generated.\n"
     ]
    }
   ],
   "source": [
    "import msprime\n",
    "\n",
    "# Define the simulation parameters\n",
    "population_size = 1000  # Effective population size\n",
    "chromosome_length = 10_000_000  # 10 Mb chromosome\n",
    "mutation_rate = 1e-8  # Mutation rate per base per generation\n",
    "recombination_rate = 1e-8  # Recombination rate per base per generation\n",
    "num_individuals = 20  # Number of diploid individuals\n",
    "\n",
    "# Simulate the ancestral recombination graph\n",
    "tree_sequence = msprime.simulate(\n",
    "    sample_size=num_individuals * 2,  # Diploid individuals, so * 2 for haploids\n",
    "    length=chromosome_length,  # Length of the simulated chromosome\n",
    "    Ne=population_size,  # Effective population size\n",
    "    mutation_rate=mutation_rate,\n",
    "    recombination_rate=recombination_rate\n",
    ")\n",
    "\n",
    "# Write the output to a VCF file\n",
    "with open(\"simulated_data.vcf\", \"w\") as vcf_file:\n",
    "    tree_sequence.write_vcf(vcf_file, 2)  # 2 is the number of alleles per site (diploid)\n",
    "\n",
    "# Note: This will use msprime's internal methods to write out the VCF\n",
    "print(\"Simulation complete. VCF file 'simulated_data.vcf' generated.\")"
   ]
  },
  {
   "cell_type": "code",
   "execution_count": null,
   "id": "tamil-device",
   "metadata": {},
   "outputs": [],
   "source": []
  }
 ],
 "metadata": {
  "kernelspec": {
   "display_name": "Python 3",
   "language": "python",
   "name": "python3"
  },
  "language_info": {
   "codemirror_mode": {
    "name": "ipython",
    "version": 3
   },
   "file_extension": ".py",
   "mimetype": "text/x-python",
   "name": "python",
   "nbconvert_exporter": "python",
   "pygments_lexer": "ipython3",
   "version": "3.7.5"
  }
 },
 "nbformat": 4,
 "nbformat_minor": 5
}
