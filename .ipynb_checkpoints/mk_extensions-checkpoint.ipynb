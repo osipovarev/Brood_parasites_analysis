{
 "cells": [
  {
   "cell_type": "code",
   "execution_count": 1,
   "id": "economic-secondary",
   "metadata": {},
   "outputs": [
    {
     "name": "stdout",
     "output_type": "stream",
     "text": [
      "Requirement already satisfied: pysam in /Users/osipova/local/Homebrew/lib/python3.7/site-packages (0.21.0)\r\n",
      "Requirement already satisfied: cython in /Users/osipova/local/Homebrew/lib/python3.7/site-packages (from pysam) (3.0.2)\r\n"
     ]
    }
   ],
   "source": [
    "!pip3 install pysam"
   ]
  },
  {
   "cell_type": "code",
   "execution_count": 1,
   "id": "embedded-namibia",
   "metadata": {},
   "outputs": [],
   "source": [
    "import pysam\n",
    "%matplotlib inline\n",
    "import numpy as np\n",
    "from glob import glob\n",
    "import pandas as pd\n",
    "from matplotlib import pyplot as plt\n",
    "import seaborn as sns\n",
    "import matplotlib\n",
    "import statsmodels.stats.multitest as smt\n",
    "matplotlib.rcParams['pdf.fonttype'] = 42\n",
    "matplotlib.rcParams['ps.fonttype'] = 42\n",
    "from scipy import stats\n",
    "from sklearn.linear_model import LinearRegression\n",
    "from scipy.optimize import curve_fit"
   ]
  },
  {
   "cell_type": "code",
   "execution_count": 3,
   "id": "infrared-ebony",
   "metadata": {},
   "outputs": [
    {
     "data": {
      "image/png": "[encoded data removed]",
      "text/plain": [
       "<Figure size 432x288 with 1 Axes>"
      ]
     },
     "metadata": {
      "needs_background": "light"
     },
     "output_type": "display_data"
    }
   ],
   "source": [
    "## JUST TEST: REMOVE\n",
    "## Check sample data from Haller & Messer 2017 (https://github.com/MesserLab/asymptoticMK/tree/master)\n",
    "dir_path = '/Users/osipova/Documents/LabDocs/Brood_parasites_analysis/Extensions_MKT/'\n",
    "file_name = 'sample_polymorphism_levels.tsv'\n",
    "file_data = glob(dir_path + file_name)[0]\n",
    "df = pd.read_csv(file_data, sep='\\t') \n",
    "d = 500\n",
    "d0 = 1000\n",
    "df['alpha'] = 1 - d0 / d * df['pN'] / df['pS']\n",
    "\n",
    "# sns.scatterplot(data=df, x='x', y='pN', linewidth=0)\n",
    "# sns.scatterplot(data=df, x='x', y='pS', linewidth=0)\n",
    "sns.scatterplot(data=df, x='x', y='alpha', linewidth=0)\n",
    "plt.xlim(0, 1)\n",
    "plt.ylim(0, 1)\n",
    "plt.xlabel('frequency')\n",
    "plt.ylabel('alpha')\n",
    "sns.despine(fig=None, ax=None, left=False, bottom=False, offset=None, trim=False)\n"
   ]
  },
  {
   "cell_type": "code",
   "execution_count": null,
   "id": "final-density",
   "metadata": {},
   "outputs": [],
   "source": []
  },
  {
   "cell_type": "code",
   "execution_count": 4,
   "id": "weighted-works",
   "metadata": {},
   "outputs": [],
   "source": [
    "def split_into_bins(l, bins):\n",
    "    \n",
    "    ## Takes a list and puts it into bins\n",
    "    data = np.array(l)\n",
    "    digitized = np.digitize(data, bins)\n",
    "    bin_counts = [digitized.tolist().count(i) for i in range(1, len(bins))]\n",
    "    return bin_counts"
   ]
  },
  {
   "cell_type": "code",
   "execution_count": 5,
   "id": "super-fellow",
   "metadata": {},
   "outputs": [],
   "source": [
    "def make_integral_sfs(pN_list, pS_list, nbin, min_x=1/31, max_x=1):\n",
    "    \n",
    "    ## Takes two lists of pN and pS and converts them to an cumulative SFS dict:\n",
    "    ## frequency: (pN count > freq, pS count > freq)\n",
    "    freq_dict = {}\n",
    "    for f in np.arange(min_x, max_x/2, 1/nbin):\n",
    "        sum_pS = sum(i > f for i in pS_list)\n",
    "        sum_pN = sum(i > f for i in pN_list)\n",
    "        if (sum_pN > 0) and (sum_pS > 0):\n",
    "            freq_dict[round(f, 3)] = (sum_pN, sum_pS)\n",
    "    return freq_dict"
   ]
  },
  {
   "cell_type": "code",
   "execution_count": 6,
   "id": "accompanied-mambo",
   "metadata": {},
   "outputs": [],
   "source": [
    "def make_sfs(pN_list, pS_list, nbin, min_x=1/31, max_x=1-1/31):\n",
    "    \n",
    "    ## Takes two lists of pN and pS and converts them to a SFS dict:\n",
    "    ## frequency: (pN count, pS count)\n",
    "    bins = np.linspace(min_x, max_x, nbin)\n",
    "    pN_bins = split_into_bins(pN_list, bins)\n",
    "    pS_bins = split_into_bins(pS_list, bins)\n",
    "\n",
    "    freq_dict = {}\n",
    "    i = 0\n",
    "    # represent each frequency with its upper bound\n",
    "    for f in bins[1:]:\n",
    "        if (pS_bins[i] != 0) and (pN_bins[i] != 0):\n",
    "            freq_dict[round(f, 3)] = (pN_bins[i], pS_bins[i])\n",
    "        i += 1\n",
    "    return freq_dict"
   ]
  },
  {
   "cell_type": "code",
   "execution_count": 7,
   "id": "vertical-cooking",
   "metadata": {},
   "outputs": [],
   "source": [
    "def claculate_alpha_x(d, d0, freq_dict):\n",
    "\n",
    "    ## Calcualtes alpha based on dN,dS and SFS of pN/pS from freq_dict\n",
    "    f = list(freq_dict.keys())\n",
    "    p = [freq_dict[f][0] for f in freq_dict]\n",
    "    p0 = [freq_dict[f][1] for f in freq_dict]\n",
    "    \n",
    "    alpha = []\n",
    "    for x in freq_dict:\n",
    "        p_x = freq_dict[x][0]\n",
    "        p0_x = freq_dict[x][1]\n",
    "        alpha_x = 1 - d0 / d * p_x / p0_x\n",
    "        alpha.append(alpha_x)\n",
    "    return alpha"
   ]
  },
  {
   "cell_type": "code",
   "execution_count": 8,
   "id": "mathematical-regulation",
   "metadata": {},
   "outputs": [],
   "source": [
    "## LEGACY: REMOVE\n",
    "def linear_fit_alpha(alpha, freq_dict):\n",
    "\n",
    "    ## Fits linear model: alpha = f(frequency) => computes asymtotic alpha -> (x=1)\n",
    "    f = list(freq_dict.keys())\n",
    "    model = LinearRegression().fit(np.array(f).reshape(-1, 1), np.array(alpha))\n",
    "    # R^2\n",
    "    rr = model.score(np.array(f).reshape(-1, 1), np.array(alpha))\n",
    "    # k - slope, b - intercept\n",
    "    k, b = float(model.coef_), float(model.intercept_)\n",
    "    \n",
    "    # plot data and the fit\n",
    "#     plt.scatter(f, alpha)\n",
    "#     plt.plot(f, [x * k + b for x in f], '--', color='red')\n",
    "#     plt.xlim(0, 1)\n",
    "#     plt.ylim(-1, 1)\n",
    "#     plt.xlabel('allele frequency')\n",
    "#     plt.ylabel('alpha')\n",
    "#     sns.despine(fig=None, ax=None, left=False, bottom=False, offset=None, trim=False)\n",
    "\n",
    "    # extrapolate to x = 1\n",
    "    asympt_alpha = 1 * k + b\n",
    "    return asympt_alpha"
   ]
  },
  {
   "cell_type": "code",
   "execution_count": null,
   "id": "answering-steel",
   "metadata": {},
   "outputs": [],
   "source": []
  },
  {
   "cell_type": "code",
   "execution_count": 9,
   "id": "living-extreme",
   "metadata": {},
   "outputs": [],
   "source": [
    "def exponential_fit(x, a, b, c):\n",
    "    return a * np.exp(b * x) + c\n",
    "\n",
    "\n",
    "def linear_fit(x, a, b):\n",
    "    return a * x + b\n",
    "\n",
    "\n",
    "def run_exponential_fit(x, y):\n",
    "    \n",
    "    try:\n",
    "        popt_exp, pcov_exp = curve_fit(exponential_fit, x, y, p0=[-1,-1,1], maxfev=5000)\n",
    "        y_exp_fit = exponential_fit(np.array(x), *popt_exp)\n",
    "        a, b, c = popt_exp[0], popt_exp[1], popt_exp[2]\n",
    "        x = 1\n",
    "        asympt_alpha = a * np.exp(b * x) + c\n",
    "    except RuntimeError:\n",
    "        asympt_alpha = 'failed'\n",
    "    return asympt_alpha\n",
    "\n",
    "\n",
    "def run_linear_fit(x, y):\n",
    "    \n",
    "    popt_lin, pcov_lin = curve_fit(linear_fit, x, y)\n",
    "    y_lin_fit = linear_fit(np.array(x), *popt_lin)\n",
    "    a, b = popt_lin[0], popt_lin[1],\n",
    "    x = 1\n",
    "    asympt_alpha = a * x + b\n",
    "    return asympt_alpha\n"
   ]
  },
  {
   "cell_type": "code",
   "execution_count": null,
   "id": "assisted-sponsorship",
   "metadata": {},
   "outputs": [],
   "source": []
  },
  {
   "cell_type": "code",
   "execution_count": null,
   "id": "smaller-iceland",
   "metadata": {},
   "outputs": [],
   "source": []
  },
  {
   "cell_type": "code",
   "execution_count": 10,
   "id": "colored-jefferson",
   "metadata": {},
   "outputs": [],
   "source": [
    "## Test get_af_from_vcf.py - exclude later!\n",
    "dir_path = '/Users/osipova/Documents/LabDocs/Brood_parasites_analysis/Extensions_MKT/'\n",
    "vcf_name = 'snpEff.polarized.passed.indInd.picPub.vcf.gz'\n",
    "vcf_data = pysam.VariantFile(dir_path + vcf_name)\n",
    "\n",
    "bed_line = 'CM051081 167553 167829'\n",
    "contig = bed_line.split()[0]\n",
    "start = int(bed_line.split()[1])\n",
    "end = int(bed_line.split()[2])\n",
    "\n",
    "AF_nonsyn = []\n",
    "AF_syn = []\n",
    "for i in vcf_data.fetch(contig, start, end):\n",
    "    POS = i.pos\n",
    "    REF = i.ref\n",
    "    ALT = i.alts[0]\n",
    "    AC = i.info['AC'][0]\n",
    "    AN = i.info['AN']\n",
    "    AA = i.info['AA']\n",
    "    \n",
    "    if AA != REF:\n",
    "        # check if snp wasn't introduced with the outgroup\n",
    "        if (AA == ALT) and (AC != 2):\n",
    "            # flip AC\n",
    "            AC = AN - AC\n",
    "        # exlude if it is new or 3-way to resolve\n",
    "        else:\n",
    "            AC = 0\n",
    "    # remove outgroup from AN\n",
    "    AN = AN - 2\n",
    "    AF = AC / AN\n",
    "    \n",
    "    if (AF != 0) and (AF != 1):\n",
    "        if 'missense_variant' in i.info['ANN'][0]:\n",
    "            AF_nonsyn.append(AF)\n",
    "        elif 'synonymous_variant' in i.info['ANN'][0]:\n",
    "            AF_syn.append(AF)\n",
    "  "
   ]
  },
  {
   "cell_type": "code",
   "execution_count": null,
   "id": "hairy-tucson",
   "metadata": {},
   "outputs": [],
   "source": []
  },
  {
   "cell_type": "code",
   "execution_count": 3,
   "id": "common-mason",
   "metadata": {},
   "outputs": [],
   "source": [
    "## Read your data per gene with syn/nonsyn AF\n",
    "# dir_path = '/Users/osipova/Documents/LabDocs/Brood_parasites_analysis/'\n",
    "file_name = 'MK_test_indInd_ncbi/af.gene.longest.mk.tsv'\n",
    "# file_data = glob(dir_path + file_name)[0]\n",
    "# df = pd.read_csv(file_data, sep='\\t')\n",
    "\n",
    "## Read Degenotate table line by line and store in dict\n",
    "mk_dict = {}\n",
    "with open(file_name, 'r') as inf:\n",
    "    for line in inf.readlines():\n",
    "        # exclude header and lines with empty AF fields  \n",
    "        if (not line.startswith('gene')) and (len(line.split()) == 11):\n",
    "            gene = line.split()[0]\n",
    "            mk_dict[gene] = {}\n",
    "            mk_dict[gene]['t'] = line.split()[1]\n",
    "            mk_dict[gene]['af_nonsyn'] = line.split()[2]\n",
    "            mk_dict[gene]['af_syn'] = line.split()[3]\n",
    "            mk_dict[gene]['dN'] = float(line.split()[6])\n",
    "            mk_dict[gene]['dS'] = float(line.split()[7])\n",
    "            mk_dict[gene]['pval'] = float(line.split()[8])\n",
    "            ni = line.split()[9]\n",
    "            dos = line.split()[10]\n",
    "            if ni == 'NaN':\n",
    "                mk_dict[gene]['standard_alpha'] = ni\n",
    "            else:\n",
    "                mk_dict[gene]['standard_alpha'] = 1 - float(ni)\n",
    "            if dos == 'NA':\n",
    "                mk_dict[gene]['dos'] = dos\n",
    "            else:\n",
    "                mk_dict[gene]['dos'] = float(dos)"
   ]
  },
  {
   "cell_type": "code",
   "execution_count": 82,
   "id": "dressed-produce",
   "metadata": {},
   "outputs": [
    {
     "name": "stderr",
     "output_type": "stream",
     "text": [
      "/Users/osipova/local/Homebrew/lib/python3.7/site-packages/scipy/optimize/minpack.py:808: OptimizeWarning: Covariance of the parameters could not be estimated\n",
      "  category=OptimizeWarning)\n"
     ]
    },
    {
     "name": "stdout",
     "output_type": "stream",
     "text": [
      "1044\n",
      "46\n"
     ]
    }
   ],
   "source": [
    "### aMKT (asymptotic MKT)\n",
    "N_samples = 31\n",
    "i = 0\n",
    "failed_exp_count = 0\n",
    "delta_list = []\n",
    "alpha_01 = []\n",
    "alpha_05 = []\n",
    "\n",
    "with open('aMKT.alpha.tsv', 'w') as ouf:\n",
    "    for g in mk_dict:\n",
    "#     for g in ['SYNE2']:\n",
    "        d = mk_dict[g]['dN']\n",
    "        d0 = mk_dict[g]['dS']\n",
    "        pN_list = [float(i) for i in mk_dict[g]['af_nonsyn'].split(',')]\n",
    "        pS_list = [float(i) for i in mk_dict[g]['af_syn'].split(',')]\n",
    "        standard_alpha = mk_dict[g]['standard_alpha']\n",
    "\n",
    "        if (d > 0) and (standard_alpha != 'NaN'):\n",
    "            \n",
    "            freq_dict_standard = make_sfs(pN_list, pS_list, N_samples)\n",
    "            freq_dict = make_integral_sfs(pN_list, pS_list, N_samples)\n",
    "            \n",
    "            alpha = claculate_alpha_x(d, d0, freq_dict)\n",
    "            if len(alpha) > 2:\n",
    "                x = list(freq_dict.keys())\n",
    "                y = alpha\n",
    "                try:\n",
    "                    ix_01 = next(el for el, val in enumerate(x) if val > 0.1)\n",
    "                except StopIteration:\n",
    "                    ix_01 = 0\n",
    "                try:\n",
    "                    ix_05 = next(el for el, val in enumerate(x) if val > 0.5)\n",
    "                except StopIteration:\n",
    "                    ix_05 = -1\n",
    "                alpha_01.append(alpha[ix_01])\n",
    "                alpha_05.append(alpha[ix_05])\n",
    "\n",
    "                asympt_alpha = run_exponential_fit(x, y)\n",
    "                if asympt_alpha == 'failed':\n",
    "                    failed_exp_count += 1\n",
    "                asympt_alpha = run_linear_fit(x, y)\n",
    "\n",
    "                ouf.write('{}\\t{}\\t{}\\n'.format(g, asympt_alpha, 'asympt'))\n",
    "                delta_list.append(asympt_alpha - standard_alpha)\n",
    "                i += 1\n",
    "            else:\n",
    "                asympt_alpha = standard_alpha\n",
    "#                 ouf.write('{}\\t{}\\t{}\\n'.format(g, asympt_alpha, 'standard'))\n",
    "        \n",
    "print(i)\n",
    "print(failed_exp_count)"
   ]
  },
  {
   "cell_type": "code",
   "execution_count": 77,
   "id": "blessed-effect",
   "metadata": {},
   "outputs": [
    {
     "ename": "NameError",
     "evalue": "name 'pwd' is not defined",
     "output_type": "error",
     "traceback": [
      "\u001b[0;31m---------------------------------------------------------------------------\u001b[0m",
      "\u001b[0;31mNameError\u001b[0m                                 Traceback (most recent call last)",
      "\u001b[0;32m<ipython-input-77-ce648cd0f200>\u001b[0m in \u001b[0;36m<module>\u001b[0;34m\u001b[0m\n\u001b[1;32m     13\u001b[0m \u001b[0;31m## Plot distribution\u001b[0m\u001b[0;34m\u001b[0m\u001b[0;34m\u001b[0m\u001b[0;34m\u001b[0m\u001b[0m\n\u001b[1;32m     14\u001b[0m \u001b[0mfig\u001b[0m\u001b[0;34m,\u001b[0m \u001b[0maxes\u001b[0m \u001b[0;34m=\u001b[0m \u001b[0mplt\u001b[0m\u001b[0;34m.\u001b[0m\u001b[0msubplots\u001b[0m\u001b[0;34m(\u001b[0m\u001b[0mfigsize\u001b[0m\u001b[0;34m=\u001b[0m\u001b[0;34m(\u001b[0m\u001b[0;36m7\u001b[0m\u001b[0;34m,\u001b[0m \u001b[0;36m5\u001b[0m\u001b[0;34m)\u001b[0m\u001b[0;34m)\u001b[0m\u001b[0;34m\u001b[0m\u001b[0;34m\u001b[0m\u001b[0m\n\u001b[0;32m---> 15\u001b[0;31m \u001b[0msns\u001b[0m\u001b[0;34m.\u001b[0m\u001b[0mhistplot\u001b[0m\u001b[0;34m(\u001b[0m\u001b[0mpwd\u001b[0m\u001b[0;34m,\u001b[0m \u001b[0mbinwidth\u001b[0m\u001b[0;34m=\u001b[0m\u001b[0;36m0.5\u001b[0m\u001b[0;34m)\u001b[0m\u001b[0;34m\u001b[0m\u001b[0;34m\u001b[0m\u001b[0m\n\u001b[0m\u001b[1;32m     16\u001b[0m \u001b[0;31m# sns.histplot(result, binwidth=0.5)\u001b[0m\u001b[0;34m\u001b[0m\u001b[0;34m\u001b[0m\u001b[0;34m\u001b[0m\u001b[0m\n\u001b[1;32m     17\u001b[0m \u001b[0;34m\u001b[0m\u001b[0m\n",
      "\u001b[0;31mNameError\u001b[0m: name 'pwd' is not defined"
     ]
    },
    {
     "data": {
      "image/png": "[encoded data removed]",
      "text/plain": [
       "<Figure size 504x360 with 1 Axes>"
      ]
     },
     "metadata": {
      "needs_background": "light"
     },
     "output_type": "display_data"
    }
   ],
   "source": [
    "final_delta_l = []\n",
    "for d in delta_list:\n",
    "    if (str(d) != 'nan') and (str(d) != 'inf') and (str(d) != '-inf'):\n",
    "        if d > 40:\n",
    "            d = 40\n",
    "        elif d < -40:\n",
    "            d = -40\n",
    "        final_delta_l.append(d)\n",
    "        \n",
    "## alpha(f>0.5) - alpha(f>0.1)\n",
    "# result = [a - b for a, b in zip(alpha_05, alpha_01)]\n",
    "\n",
    "## Plot distribution\n",
    "fig, axes = plt.subplots(figsize=(7, 5))\n",
    "sns.histplot(pwd, binwidth=0.5)\n",
    "# sns.histplot(result, binwidth=0.5)\n",
    "\n",
    "axes.axvline(x=0, color='red')\n",
    "axes.set_xlim(-5, 5)\n",
    "\n",
    "# plt.xlabel('alpha(aMK) - alpha(MK)')\n",
    "sns.despine(fig=None, ax=None, left=False, bottom=False, offset=None, trim=False)"
   ]
  },
  {
   "cell_type": "code",
   "execution_count": null,
   "id": "ancient-punch",
   "metadata": {},
   "outputs": [],
   "source": []
  },
  {
   "cell_type": "code",
   "execution_count": 150,
   "id": "concerned-league",
   "metadata": {},
   "outputs": [
    {
     "data": {
      "image/png": "[encoded data removed]",
      "text/plain": [
       "<Figure size 504x288 with 1 Axes>"
      ]
     },
     "metadata": {
      "needs_background": "light"
     },
     "output_type": "display_data"
    }
   ],
   "source": [
    "df_g = pd.DataFrame(zip(list(freq_dict.keys()) * 2,\n",
    "                        [i[1] for i in freq_dict.values()] + [i[0] for i in freq_dict.values()],\n",
    "                        ['pS']*len(freq_dict) + ['pN']*len(freq_dict)),\n",
    "                    columns = ['freq', 'count', 'class'])\n",
    "\n",
    "fig, axes = plt.subplots(figsize=(7, 4))\n",
    "sns.barplot(data=df_g, x='freq', y='count', hue='class')\n",
    "f_lables = [round(i, 2) for i in df_g['freq']]\n",
    "axes.set_xticklabels(f_lables , rotation=30, ha='right')\n",
    "plt.xlabel('frequency > x')\n",
    "sns.despine(fig=None, ax=None, left=False, bottom=False, offset=None, trim=False)\n"
   ]
  },
  {
   "cell_type": "code",
   "execution_count": null,
   "id": "equipped-withdrawal",
   "metadata": {},
   "outputs": [],
   "source": [
    "\n"
   ]
  },
  {
   "cell_type": "code",
   "execution_count": 164,
   "id": "golden-virginia",
   "metadata": {},
   "outputs": [
    {
     "ename": "TypeError",
     "evalue": "Improper input: N=3 must not exceed M=1",
     "output_type": "error",
     "traceback": [
      "\u001b[0;31m---------------------------------------------------------------------------\u001b[0m",
      "\u001b[0;31mTypeError\u001b[0m                                 Traceback (most recent call last)",
      "\u001b[0;32m<ipython-input-164-7f00995aefb0>\u001b[0m in \u001b[0;36m<module>\u001b[0;34m\u001b[0m\n\u001b[1;32m      8\u001b[0m \u001b[0;34m\u001b[0m\u001b[0m\n\u001b[1;32m      9\u001b[0m \u001b[0;34m\u001b[0m\u001b[0m\n\u001b[0;32m---> 10\u001b[0;31m \u001b[0mpopt_exp\u001b[0m\u001b[0;34m,\u001b[0m \u001b[0mpcov_exp\u001b[0m \u001b[0;34m=\u001b[0m \u001b[0mcurve_fit\u001b[0m\u001b[0;34m(\u001b[0m\u001b[0mexponential_fit\u001b[0m\u001b[0;34m,\u001b[0m \u001b[0mx\u001b[0m\u001b[0;34m,\u001b[0m \u001b[0my\u001b[0m\u001b[0;34m,\u001b[0m \u001b[0mp0\u001b[0m\u001b[0;34m=\u001b[0m\u001b[0;34m[\u001b[0m\u001b[0;34m-\u001b[0m\u001b[0;36m1\u001b[0m\u001b[0;34m,\u001b[0m\u001b[0;34m-\u001b[0m\u001b[0;36m1\u001b[0m\u001b[0;34m,\u001b[0m\u001b[0;36m1\u001b[0m\u001b[0;34m]\u001b[0m\u001b[0;34m,\u001b[0m \u001b[0mmaxfev\u001b[0m\u001b[0;34m=\u001b[0m\u001b[0;36m5000\u001b[0m\u001b[0;34m)\u001b[0m\u001b[0;34m\u001b[0m\u001b[0;34m\u001b[0m\u001b[0m\n\u001b[0m\u001b[1;32m     11\u001b[0m \u001b[0my_exp_fit\u001b[0m \u001b[0;34m=\u001b[0m \u001b[0mexponential_fit\u001b[0m\u001b[0;34m(\u001b[0m\u001b[0mnp\u001b[0m\u001b[0;34m.\u001b[0m\u001b[0marray\u001b[0m\u001b[0;34m(\u001b[0m\u001b[0mx\u001b[0m\u001b[0;34m)\u001b[0m\u001b[0;34m,\u001b[0m \u001b[0;34m*\u001b[0m\u001b[0mpopt_exp\u001b[0m\u001b[0;34m)\u001b[0m\u001b[0;34m\u001b[0m\u001b[0;34m\u001b[0m\u001b[0m\n\u001b[1;32m     12\u001b[0m \u001b[0;34m\u001b[0m\u001b[0m\n",
      "\u001b[0;32m~/local/Homebrew/lib/python3.7/site-packages/scipy/optimize/minpack.py\u001b[0m in \u001b[0;36mcurve_fit\u001b[0;34m(f, xdata, ydata, p0, sigma, absolute_sigma, check_finite, bounds, method, jac, **kwargs)\u001b[0m\n\u001b[1;32m    761\u001b[0m         \u001b[0;31m# Remove full_output from kwargs, otherwise we're passing it in twice.\u001b[0m\u001b[0;34m\u001b[0m\u001b[0;34m\u001b[0m\u001b[0;34m\u001b[0m\u001b[0m\n\u001b[1;32m    762\u001b[0m         \u001b[0mreturn_full\u001b[0m \u001b[0;34m=\u001b[0m \u001b[0mkwargs\u001b[0m\u001b[0;34m.\u001b[0m\u001b[0mpop\u001b[0m\u001b[0;34m(\u001b[0m\u001b[0;34m'full_output'\u001b[0m\u001b[0;34m,\u001b[0m \u001b[0;32mFalse\u001b[0m\u001b[0;34m)\u001b[0m\u001b[0;34m\u001b[0m\u001b[0;34m\u001b[0m\u001b[0m\n\u001b[0;32m--> 763\u001b[0;31m         \u001b[0mres\u001b[0m \u001b[0;34m=\u001b[0m \u001b[0mleastsq\u001b[0m\u001b[0;34m(\u001b[0m\u001b[0mfunc\u001b[0m\u001b[0;34m,\u001b[0m \u001b[0mp0\u001b[0m\u001b[0;34m,\u001b[0m \u001b[0mDfun\u001b[0m\u001b[0;34m=\u001b[0m\u001b[0mjac\u001b[0m\u001b[0;34m,\u001b[0m \u001b[0mfull_output\u001b[0m\u001b[0;34m=\u001b[0m\u001b[0;36m1\u001b[0m\u001b[0;34m,\u001b[0m \u001b[0;34m**\u001b[0m\u001b[0mkwargs\u001b[0m\u001b[0;34m)\u001b[0m\u001b[0;34m\u001b[0m\u001b[0;34m\u001b[0m\u001b[0m\n\u001b[0m\u001b[1;32m    764\u001b[0m         \u001b[0mpopt\u001b[0m\u001b[0;34m,\u001b[0m \u001b[0mpcov\u001b[0m\u001b[0;34m,\u001b[0m \u001b[0minfodict\u001b[0m\u001b[0;34m,\u001b[0m \u001b[0merrmsg\u001b[0m\u001b[0;34m,\u001b[0m \u001b[0mier\u001b[0m \u001b[0;34m=\u001b[0m \u001b[0mres\u001b[0m\u001b[0;34m\u001b[0m\u001b[0;34m\u001b[0m\u001b[0m\n\u001b[1;32m    765\u001b[0m         \u001b[0mysize\u001b[0m \u001b[0;34m=\u001b[0m \u001b[0mlen\u001b[0m\u001b[0;34m(\u001b[0m\u001b[0minfodict\u001b[0m\u001b[0;34m[\u001b[0m\u001b[0;34m'fvec'\u001b[0m\u001b[0;34m]\u001b[0m\u001b[0;34m)\u001b[0m\u001b[0;34m\u001b[0m\u001b[0;34m\u001b[0m\u001b[0m\n",
      "\u001b[0;32m~/local/Homebrew/lib/python3.7/site-packages/scipy/optimize/minpack.py\u001b[0m in \u001b[0;36mleastsq\u001b[0;34m(func, x0, args, Dfun, full_output, col_deriv, ftol, xtol, gtol, maxfev, epsfcn, factor, diag)\u001b[0m\n\u001b[1;32m    390\u001b[0m \u001b[0;34m\u001b[0m\u001b[0m\n\u001b[1;32m    391\u001b[0m     \u001b[0;32mif\u001b[0m \u001b[0mn\u001b[0m \u001b[0;34m>\u001b[0m \u001b[0mm\u001b[0m\u001b[0;34m:\u001b[0m\u001b[0;34m\u001b[0m\u001b[0;34m\u001b[0m\u001b[0m\n\u001b[0;32m--> 392\u001b[0;31m         \u001b[0;32mraise\u001b[0m \u001b[0mTypeError\u001b[0m\u001b[0;34m(\u001b[0m\u001b[0;34m'Improper input: N=%s must not exceed M=%s'\u001b[0m \u001b[0;34m%\u001b[0m \u001b[0;34m(\u001b[0m\u001b[0mn\u001b[0m\u001b[0;34m,\u001b[0m \u001b[0mm\u001b[0m\u001b[0;34m)\u001b[0m\u001b[0;34m)\u001b[0m\u001b[0;34m\u001b[0m\u001b[0;34m\u001b[0m\u001b[0m\n\u001b[0m\u001b[1;32m    393\u001b[0m \u001b[0;34m\u001b[0m\u001b[0m\n\u001b[1;32m    394\u001b[0m     \u001b[0;32mif\u001b[0m \u001b[0mepsfcn\u001b[0m \u001b[0;32mis\u001b[0m \u001b[0;32mNone\u001b[0m\u001b[0;34m:\u001b[0m\u001b[0;34m\u001b[0m\u001b[0;34m\u001b[0m\u001b[0m\n",
      "\u001b[0;31mTypeError\u001b[0m: Improper input: N=3 must not exceed M=1"
     ]
    }
   ],
   "source": [
    "## Plot alpha = f(frequency) => with linear or exponential fit\n",
    "\n",
    "# Haller & Messer 2017:  αfit(x) = -0.6*exp(−3.8x) + 0.6\n",
    "# x = df['x']\n",
    "# y = df['alpha']\n",
    "x = list(freq_dict.keys())\n",
    "y = alpha\n",
    "\n",
    "\n",
    "popt_exp, pcov_exp = curve_fit(exponential_fit, x, y, p0=[-1,-1,1], maxfev=5000)\n",
    "y_exp_fit = exponential_fit(np.array(x), *popt_exp)\n",
    "\n",
    "popt_lin, pcov_lin = curve_fit(linear_fit, x, y)\n",
    "y_lin_fit = linear_fit(np.array(x), *popt_lin)\n",
    "\n",
    "fig, axes = plt.subplots(figsize=(6, 4))\n",
    "plt.scatter(x, y)\n",
    "plt.plot(x, y_exp_fit, '--', linewidth=2, color='red')\n",
    "plt.plot(x, y_lin_fit, '--', linewidth=2, color='green')\n",
    "# plt.xlim(0, 0.5)\n",
    "# plt.ylim(-1, 0)\n",
    "plt.xlabel('frequency > x')\n",
    "plt.ylabel('alpha')\n",
    "sns.despine(fig=None, ax=None, left=False, bottom=False, offset=None, trim=False)\n",
    "\n",
    "# Calculate R-squared\n",
    "ss_total = np.sum((y - np.mean(y)) ** 2)\n",
    "ss_residual_exp = np.sum((y - exponential_fit(np.array(x), *popt_exp)) ** 2)\n",
    "ss_residual_lin = np.sum((y - linear_fit(np.array(x), *popt_lin)) ** 2)\n",
    "rr_exp = 1 - (ss_residual_exp / ss_total)\n",
    "rr_lin = 1 - (ss_residual_lin / ss_total)\n",
    "\n",
    "print(\"R^2 exp: {}; R^2 linear: {}\".format(rr_exp, rr_lin))\n"
   ]
  },
  {
   "cell_type": "code",
   "execution_count": null,
   "id": "sporting-breakfast",
   "metadata": {},
   "outputs": [],
   "source": []
  },
  {
   "cell_type": "code",
   "execution_count": 237,
   "id": "eleven-albert",
   "metadata": {},
   "outputs": [
    {
     "name": "stderr",
     "output_type": "stream",
     "text": [
      "/Users/osipova/local/Homebrew/lib/python3.7/site-packages/pandas/core/series.py:679: RuntimeWarning: divide by zero encountered in log10\n",
      "  result = getattr(ufunc, method)(*inputs, **kwargs)\n",
      "/Users/osipova/local/Homebrew/lib/python3.7/site-packages/pandas/core/series.py:679: RuntimeWarning: invalid value encountered in log10\n",
      "  result = getattr(ufunc, method)(*inputs, **kwargs)\n"
     ]
    },
    {
     "data": {
      "image/png": "[encoded data removed]",
      "text/plain": [
       "<Figure size 360x360 with 1 Axes>"
      ]
     },
     "metadata": {
      "needs_background": "light"
     },
     "output_type": "display_data"
    }
   ],
   "source": [
    "db = 'indInd'\n",
    "dir_path = '/Users/osipova/Documents/LabDocs/Brood_parasites_analysis/'\n",
    "file_name = 'MK_test_{}_ncbi/only_changed.aMK.gene.longest.mk.tsv'.format(db)\n",
    "file_data = glob(dir_path + file_name)[0]\n",
    "df = pd.read_csv(file_data, sep='\\t')\n",
    "\n",
    "## Adjust NI\n",
    "df['ni'] = 1 - df['alpha']\n",
    "min_ni = df[df['ni'] != float('-inf')]['ni'].min()\n",
    "max_ni = df[df['ni'] != float('inf')]['ni'].max()\n",
    "df['corrni'] = [min_ni/4 if i==float('-inf') else max_ni*4 if i==float('inf') else i for i in df['ni']]\n",
    "df['logpval'] = -np.log10(df['pvalue'])\n",
    "df['logni'] = -np.log10(df['corrni'])\n",
    "\n",
    "p = sns.color_palette('Paired')\n",
    "pal = p[1], p[5]\n",
    "\n",
    "fig, axes = plt.subplots(figsize=(5, 5))\n",
    "\n",
    "sns.scatterplot(data=df[df['method'] == 'standard'], x='logni', y='logpval',\n",
    "                linewidth=0, s=15, color=pal[0], alpha=0.5)\n",
    "sns.scatterplot(data=df[df['method'] == 'asympt'], x='logni', y='logpval',\n",
    "                linewidth=0, s=15, color=pal[1], alpha=0.5)\n",
    "\n",
    "axes.axvline(0, color='k', alpha=0.5, ls='--')\n",
    "axes.set_xlabel('-log NI')\n",
    "axes.set_ylabel('-log p-value')\n",
    "axes.set_xlim(-3, 3)\n",
    "sns.despine(fig=None, ax=None, left=False, bottom=False, offset=None, trim=False)\n",
    "\n",
    "pdf_name = 'aMK_vs_MK.ni.pval_volcanos.{}.pdf'.format(db)\n",
    "\n",
    "# fig.savefig(pdf_name, bbox_inches='tight')"
   ]
  },
  {
   "cell_type": "code",
   "execution_count": 85,
   "id": "annual-johnson",
   "metadata": {},
   "outputs": [
    {
     "data": {
      "text/plain": [
       "{'t': 'XM_054400423.1',\n",
       " 'af_nonsyn': '0.048,0.016,0.29,0.516,0.226,0.016,0.274,0.032,0.871,0.016,0.016,0.016,0.145,0.081,0.016,0.645,0.016,0.032,0.032,0.065,0.048,0.016,0.081,0.048,0.016,0.016,0.016,0.113,0.016,0.129,0.081,0.774,0.016,0.145,0.855,0.065,0.016,0.065,0.081,0.048,0.306,0.081,0.903,0.016,0.016,0.016,0.597,0.032,0.032,0.984,0.032,0.016,0.016,0.161,0.419,0.081,0.403,0.097,0.581,0.935,0.726,0.984,0.048,0.081,0.081,0.274,0.21,0.032,0.065,0.016,0.048,0.065,0.21,0.79,0.629,0.145,0.048,0.29,0.081,0.484,0.081,0.016,0.016,0.016,0.113,0.097,0.097,0.016,0.097,0.839,0.016,0.097,0.016,0.048,0.048,0.952,0.194',\n",
       " 'af_syn': '0.29,0.258,0.032,0.032,0.032,0.081,0.081,0.097,0.016,0.468,0.065,0.113,0.016,0.984,0.032,0.032,0.806,0.048,0.065,0.016,0.016,0.016,0.065,0.468,0.016,0.484,0.129,0.032,0.016,0.871,0.161,0.081,0.048,0.274,0.581,0.048,0.242,0.306,0.952,0.129,0.113,0.29,0.742,0.161,0.016,0.032,0.097,0.048,0.839,0.097,0.984,0.984,0.419,0.016',\n",
       " 'dN': 56.5,\n",
       " 'dS': 55.5,\n",
       " 'pval': 0.5258580828232704,\n",
       " 'standard_alpha': -0.27314814814814814}"
      ]
     },
     "execution_count": 85,
     "metadata": {},
     "output_type": "execute_result"
    }
   ],
   "source": [
    "mk_dict['SYNE2']"
   ]
  },
  {
   "cell_type": "code",
   "execution_count": 8,
   "id": "tropical-gibraltar",
   "metadata": {},
   "outputs": [
    {
     "name": "stdout",
     "output_type": "stream",
     "text": [
      "1567\n"
     ]
    }
   ],
   "source": [
    "### Imputed MKT\n",
    "i = 0\n",
    "cutoff = 0.15\n",
    "delta = {}\n",
    "p_wd_list = []\n",
    "compare_alpha = {}\n",
    "compare_dos = {}\n",
    "\n",
    "with open('impMKT.dos.tsv', 'w') as ouf:\n",
    "    for g in mk_dict:\n",
    "        d  = mk_dict[g]['dN']\n",
    "        d0 = mk_dict[g]['dS']\n",
    "        pN_list = [float(i) for i in mk_dict[g]['af_nonsyn'].split(',')]\n",
    "        pS_list = [float(i) for i in mk_dict[g]['af_syn'].split(',')]\n",
    "        p  = len(pN_list)\n",
    "        p0 = len(pS_list)\n",
    "        \n",
    "        ## calculate standard alpha and DoS\n",
    "        if d > 0:\n",
    "            standard_alpha = 1 - p / p0 * d0 / d\n",
    "        if (d + d0) > 0:\n",
    "            standard_dos = d / (d + d0) - p / (p + p0)\n",
    "            \n",
    "            ## calculate extended alpha\n",
    "            pN_af_high = [i for i in pN_list if i > cutoff - .05]\n",
    "            pS_af_high = [i for i in pS_list if i < cutoff - .05]\n",
    "            p_high  = len(pN_af_high)\n",
    "            p0_high = len(pN_af_high)\n",
    "            \n",
    "            if p0_high > 0:\n",
    "                ext_alpha = 1 - p_high / p0_high * d0 / d\n",
    "                ext_dos = d / (d + d0) - p_high / (p_high + p0_high)\n",
    "                \n",
    "            ## calculate imputed alpha       \n",
    "            pN_af_high = [i for i in pN_list if i > cutoff]\n",
    "            pN_af_low  = [i for i in pN_list if i < cutoff]\n",
    "            pS_af_high = [i for i in pS_list if i > cutoff]\n",
    "            pS_af_low  = [i for i in pS_list if i < cutoff]\n",
    "            p_high  = len(pN_af_high)\n",
    "            p0_high = len(pN_af_high)\n",
    "            p_low   = len(pN_af_low)\n",
    "            p0_low  = len(pN_af_low)\n",
    "            \n",
    "            if p0_high > 0:\n",
    "                p_wd = p0_low - p_high / p0_high * p0_low\n",
    "                imputed_alpha = 1 - (p - p_wd) / p0 * d0 / d\n",
    "                imputed_dos = d / (d + d0) - (p - p_wd) / ((p - p_wd) + p0)\n",
    "                \n",
    "                compare_alpha[g] = (standard_alpha, ext_alpha, imputed_alpha, p_wd, mk_dict[g]['pval'])\n",
    "                compare_dos[g] = (standard_dos, ext_dos, imputed_dos, p_wd, mk_dict[g]['pval'])\n",
    "#                 ouf.write('{}\\t{}\\t{}\\n'.format(g, imputed_alpha, 'imputed'))\n",
    "                ouf.write('{}\\t{}\\t{}\\n'.format(g, dos, 'imputed'))\n",
    "#                 delta[g] = (imputed_alpha - standard_alpha, imputed_alpha - ext_alpha)\n",
    "                delta[g] = (imputed_dos - standard_dos, imputed_dos - ext_dos)\n",
    "                p_wd_list.append(p_wd)\n",
    "                i += 1\n",
    "print(i)"
   ]
  },
  {
   "cell_type": "code",
   "execution_count": null,
   "id": "likely-departure",
   "metadata": {},
   "outputs": [],
   "source": []
  },
  {
   "cell_type": "code",
   "execution_count": 12,
   "id": "organized-leone",
   "metadata": {},
   "outputs": [
    {
     "data": {
      "image/png": "[encoded data removed]",
      "text/plain": [
       "<Figure size 1008x360 with 2 Axes>"
      ]
     },
     "metadata": {
      "needs_background": "light"
     },
     "output_type": "display_data"
    }
   ],
   "source": [
    "## Convert to dataFrame\n",
    "df_compare_alpha = pd.DataFrame.from_dict(compare_alpha,\n",
    "                                          orient='index',\n",
    "                                          columns=['standard', 'extended', 'imputed', 'pwd', 'pval'])\n",
    "\n",
    "\n",
    "## Plot distribution\n",
    "fig, axes = plt.subplots(1, 2, figsize=(14, 5))\n",
    "ax1, ax2 = axes[0], axes[1]\n",
    "# sns.histplot(p_wd_list, binwidth=1)\n",
    "# sns.histplot(delta_list, binwidth=0.4)\n",
    "# sns.histplot(df_compare_alpha['standard'], binwidth=0.3, kde=True, alpha=0.3, color='green')\n",
    "# sns.histplot(df_compare_alpha['extended'], binwidth=0.3, kde=True, alpha=0.3, color='blue')\n",
    "# sns.histplot(df_compare_alpha['imputed'],  binwidth=0.3, kde=True, alpha=0.3, color='red')\n",
    "# sns.histplot(filt_check_ext_alpha,  alpha=0.5, color='green')\n",
    "\n",
    "for i in [0, 1]:\n",
    "    axi = axes[i]\n",
    "    sns.histplot(ax=axi, data=[delta[g][i] for g in delta], binwidth=0.5)\n",
    "    axi.axvline(x=0, color='red')\n",
    "    \n",
    "    if i == 0:\n",
    "        axi.set_xlabel('alpha: impMK - MK')\n",
    "        axi.set_xlim(-15, 15)\n",
    "    else:\n",
    "        axi.set_xlabel('alpha: impMK - eMK')\n",
    "        axi.set_xlim(-5, 5)\n",
    "    \n",
    "# axes.axvline(x=0, color='red')\n",
    "# axes.axvline(x=1, color='black')\n",
    "# axes.set_xlim(-5, 5)\n",
    "# axes.set_xlim(-10, 10)\n",
    "# axes.set_xlim(-8, 2)\n",
    "# axes.set_xlim(-30, 30)\n",
    "\n",
    "\n",
    "# plt.xlabel('alpha(aMK) - alpha(MK)')\n",
    "# plt.xlabel('alpha: MK, eMK, impMK ')\n",
    "sns.despine(fig=None, ax=None, left=False, bottom=False, offset=None, trim=False)\n"
   ]
  },
  {
   "cell_type": "code",
   "execution_count": 74,
   "id": "completed-violin",
   "metadata": {},
   "outputs": [
    {
     "name": "stderr",
     "output_type": "stream",
     "text": [
      "/Users/osipova/local/Homebrew/lib/python3.7/site-packages/pandas/core/series.py:679: RuntimeWarning: divide by zero encountered in log10\n",
      "  result = getattr(ufunc, method)(*inputs, **kwargs)\n"
     ]
    }
   ],
   "source": [
    "df_compare_alpha['logstand'] = -np.log10(1 - df_compare_alpha['standard'])\n",
    "df_compare_alpha['logext']   = -np.log10(1 - df_compare_alpha['extended'])\n",
    "df_compare_alpha['logimp']   = -np.log10(1 - df_compare_alpha['imputed'])\n",
    "df_compare_alpha['logpval']  = -np.log10(df_compare_alpha['pval'])\n"
   ]
  },
  {
   "cell_type": "code",
   "execution_count": 75,
   "id": "intermediate-rover",
   "metadata": {},
   "outputs": [
    {
     "data": {
      "image/png": "[encoded data removed]",
      "text/plain": [
       "<Figure size 360x360 with 1 Axes>"
      ]
     },
     "metadata": {
      "needs_background": "light"
     },
     "output_type": "display_data"
    }
   ],
   "source": [
    "db = 'indInd'\n",
    "fig, axes = plt.subplots(figsize=(5, 5))\n",
    "p = sns.color_palette('Paired')\n",
    "pal = p[1], p[5]\n",
    "\n",
    "\n",
    "sns.scatterplot(data=df_compare_alpha, x='logext', y='logpval',\n",
    "                linewidth=0, s=15, color=pal[0], alpha=0.5)\n",
    "sns.scatterplot(data=df_compare_alpha, x='logimp', y='logpval',\n",
    "                linewidth=0, s=15, color=pal[1], alpha=0.5)\n",
    "\n",
    "axes.axvline(0, color='k', alpha=0.5, ls='--')\n",
    "axes.set_xlabel('-log NI')\n",
    "axes.set_ylabel('-log p-value')\n",
    "axes.set_xlim(-3, 3)\n",
    "sns.despine(fig=None, ax=None, left=False, bottom=False, offset=None, trim=False)\n",
    "\n",
    "pdf_name = 'impMK_vs_MK.ni.pval_volcanos.{}.pdf'.format(db)\n",
    "\n",
    "# fig.savefig(pdf_name, bbox_inches='tight')"
   ]
  },
  {
   "cell_type": "code",
   "execution_count": 122,
   "id": "embedded-newcastle",
   "metadata": {},
   "outputs": [
    {
     "data": {
      "text/plain": [
       "1567"
      ]
     },
     "execution_count": 122,
     "metadata": {},
     "output_type": "execute_result"
    }
   ],
   "source": [
    "len([delta[g][1] for g in delta])"
   ]
  },
  {
   "cell_type": "code",
   "execution_count": null,
   "id": "accomplished-glasgow",
   "metadata": {},
   "outputs": [],
   "source": []
  }
 ],
 "metadata": {
  "kernelspec": {
   "display_name": "Python 3",
   "language": "python",
   "name": "python3"
  },
  "language_info": {
   "codemirror_mode": {
    "name": "ipython",
    "version": 3
   },
   "file_extension": ".py",
   "mimetype": "text/x-python",
   "name": "python",
   "nbconvert_exporter": "python",
   "pygments_lexer": "ipython3",
   "version": "3.7.5"
  }
 },
 "nbformat": 4,
 "nbformat_minor": 5
}
