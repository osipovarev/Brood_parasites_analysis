{
 "cells": [
  {
   "cell_type": "code",
   "execution_count": null,
   "id": "radio-contemporary",
   "metadata": {},
   "outputs": [],
   "source": [
    "!pip3 install pysam"
   ]
  },
  {
   "cell_type": "code",
   "execution_count": 102,
   "id": "embedded-namibia",
   "metadata": {},
   "outputs": [],
   "source": [
    "import pysam\n",
    "%matplotlib inline\n",
    "import numpy as np\n",
    "from glob import glob\n",
    "import pandas as pd\n",
    "from matplotlib import pyplot as plt\n",
    "import seaborn as sns\n",
    "import matplotlib\n",
    "import statsmodels.stats.multitest as smt\n",
    "matplotlib.rcParams['pdf.fonttype'] = 42\n",
    "matplotlib.rcParams['ps.fonttype'] = 42\n",
    "from scipy import stats\n",
    "from sklearn.linear_model import LinearRegression\n",
    "from scipy.optimize import curve_fit"
   ]
  },
  {
   "cell_type": "code",
   "execution_count": 202,
   "id": "infrared-ebony",
   "metadata": {},
   "outputs": [
    {
     "data": {
      "image/png": "[encoded data removed]",
      "text/plain": [
       "<Figure size 432x288 with 1 Axes>"
      ]
     },
     "metadata": {
      "needs_background": "light"
     },
     "output_type": "display_data"
    }
   ],
   "source": [
    "## Check sample data from Haller & Messer 2017 (https://github.com/MesserLab/asymptoticMK/tree/master)\n",
    "dir_path = '/Users/osipova/Documents/LabDocs/Brood_parasites_analysis/Extensions_MKT/'\n",
    "file_name = 'sample_polymorphism_levels.tsv'\n",
    "file_data = glob(dir_path + file_name)[0]\n",
    "df = pd.read_csv(file_data, sep='\\t') \n",
    "d = 500\n",
    "d0 = 1000\n",
    "df['alpha'] = 1 - d0 / d * df['pN'] / df['pS']\n",
    "\n",
    "# sns.scatterplot(data=df, x='x', y='pN', linewidth=0)\n",
    "# sns.scatterplot(data=df, x='x', y='pS', linewidth=0)\n",
    "sns.scatterplot(data=df, x='x', y='alpha', linewidth=0)\n",
    "plt.xlim(0, 1)\n",
    "plt.ylim(0, 1)\n",
    "plt.xlabel('frequency')\n",
    "plt.ylabel('alpha')\n",
    "sns.despine(fig=None, ax=None, left=False, bottom=False, offset=None, trim=False)\n"
   ]
  },
  {
   "cell_type": "code",
   "execution_count": 143,
   "id": "industrial-giving",
   "metadata": {},
   "outputs": [
    {
     "name": "stdout",
     "output_type": "stream",
     "text": [
      "[31  9 12  5  1]\n",
      "[0.016  0.1516 0.2872 0.4228 0.5584 0.694 ]\n",
      "[66 22 11 23 11]\n",
      "[0.016  0.1096 0.2032 0.2968 0.3904 0.484 ]\n"
     ]
    },
    {
     "data": {
      "image/png": "[encoded data removed]",
      "text/plain": [
       "<Figure size 432x288 with 1 Axes>"
      ]
     },
     "metadata": {
      "needs_background": "light"
     },
     "output_type": "display_data"
    }
   ],
   "source": [
    "pN = '0.017,0.048,0.016,0.016,0.016,0.435,0.113,0.032,0.403,0.016,0.5,0.645,0.016,0.016,0.032,0.016,0.065,0.081,0.016,0.435,0.048,0.097,0.355,0.016,0.613,0.613,0.017,0.016,0.016,0.032'\n",
    "pS = '0.177,0.016,0.081,0.145,0.145,0.016,0.968,0.016,0.032,0.016,0.065,0.016,0.016,0.129,0.016,0.081,0.016,0.081,0.016,0.161'\n",
    "\n",
    "pN = '0.016,0.016,0.371,0.032,0.129,0.016,0.113,0.183,0.354,0.032,0.032,0.339,0.323,0.355,0.367,0.383,0.35,0.31,0.31,0.259,0.233,0.468,0.484,0.484,0.484,0.016,0.048,0.29,0.419,0.435,0.13,0.121,0.016,0.065,0.065,0.065,0.065,0.065,0.016,0.016,0.016,0.016,0.258,0.194,0.016,0.033,0.033,0.097,0.113,0.032,0.097,0.1,0.19,0.19,0.19,0.167,0.016,0.694'\n",
    "pS = '0.452,0.452,0.452,0.145,0.129,0.113,0.129,0.145,0.145,0.032,0.016,0.016,0.048,0.065,0.097,0.177,0.183,0.2,0.194,0.048,0.333,0.333,0.259,0.21,0.35,0.339,0.339,0.355,0.355,0.35,0.35,0.35,0.069,0.283,0.484,0.484,0.468,0.468,0.032,0.452,0.355,0.355,0.355,0.355,0.355,0.129,0.35,0.323,0.226,0.032,0.032,0.032,0.048,0.048,0.29,0.29,0.403,0.435,0.435,0.107,0.103,0.083,0.083,0.083,0.033,0.065,0.065,0.065,0.065,0.065,0.032,0.032,0.032,0.016,0.016,0.016,0.226,0.306,0.306,0.306,0.048,0.21,0.258,0.258,0.258,0.194,0.161,0.161,0.05,0.033,0.033,0.033,0.097,0.097,0.097,0.339,0.339,0.339,0.016,0.032,0.032,0.032,0.032,0.032,0.032,0.048,0.097,0.097,0.097,0.097,0.097,0.097,0.097,0.097,0.103,0.1,0.083,0.05,0.034,0.034,0.19,0.19,0.19,0.19,0.167,0.167,0.167,0.15,0.032,0.016,0.016,0.016,0.016'\n",
    "\n",
    "pN_list = [float(i) for i in pN.split(',')]\n",
    "pS_list = [float(i) for i in pS.split(',')]\n",
    "\n",
    "# W = 1 / len(l) * 5\n",
    "hist_pN, bin_edges_pN = np.histogram(pN_list, bins=5)\n",
    "hist_pS, bin_edges_pS = np.histogram(pS_list, bins=5)\n",
    "print(hist_pN)\n",
    "print(bin_edges_pN)\n",
    "print(hist_pS)\n",
    "print(bin_edges_pS)\n",
    "\n",
    "sns.histplot(pN_list, binwidth=0.1, color='red', alpha=0.5)\n",
    "sns.histplot(pS_list, binwidth=0.1, color='blue', alpha=0.5)\n",
    "sns.despine(fig=None, ax=None, left=False, bottom=False, offset=None, trim=False)"
   ]
  },
  {
   "cell_type": "code",
   "execution_count": null,
   "id": "intermediate-parker",
   "metadata": {},
   "outputs": [],
   "source": []
  },
  {
   "cell_type": "code",
   "execution_count": 23,
   "id": "weighted-works",
   "metadata": {},
   "outputs": [],
   "source": [
    "def split_into_bins(l, bins):\n",
    "    \n",
    "    ## Takes a list and puts it into bins\n",
    "    data = np.array(l)\n",
    "    digitized = np.digitize(data, bins)\n",
    "    bin_counts = [digitized.tolist().count(i) for i in range(1, len(bins))]\n",
    "    return bin_counts"
   ]
  },
  {
   "cell_type": "code",
   "execution_count": 44,
   "id": "accompanied-mambo",
   "metadata": {},
   "outputs": [],
   "source": [
    "def make_sfs(pN_list, pS_list, min_x=0.03, max_x=0.9, nbin=8):\n",
    "    \n",
    "    ## Takes two lists of pN and pS and converts them to a SFS dict:\n",
    "    ## frequency: (pN count, pS count)\n",
    "    bins = np.linspace(min_x, max_x, nbin)\n",
    "    pN_bins = split_into_bins(pN_list, bins)\n",
    "    pS_bins = split_into_bins(pS_list, bins)\n",
    "\n",
    "    freq_dict = {}\n",
    "    i = 0\n",
    "    # represent each frequency with its upper bound\n",
    "    for freq in bins[1:]:\n",
    "        if (pS_bins[i] != 0) and (pN_bins[i] != 0):\n",
    "            freq_dict[round(freq, 3)] = (pN_bins[i], pS_bins[i])\n",
    "        i += 1\n",
    "    return freq_dict"
   ]
  },
  {
   "cell_type": "code",
   "execution_count": 45,
   "id": "vertical-cooking",
   "metadata": {},
   "outputs": [],
   "source": [
    "def claculate_alpha_x(d, d0, freq_dict):\n",
    "\n",
    "    ## Calcualtes alpha based on dN,dS and SFS of pN/pS from freq_dict\n",
    "    f = list(freq_dict.keys())\n",
    "    p = [freq_dict[f][0] for f in freq_dict]\n",
    "    p0 = [freq_dict[f][1] for f in freq_dict]\n",
    "    \n",
    "    alpha = []\n",
    "    for x in freq_dict:\n",
    "        p_x = freq_dict[x][0]\n",
    "        p0_x = freq_dict[x][1]\n",
    "        alpha_x = 1 - d0 / d * p_x / p0_x\n",
    "        alpha.append(alpha_x)\n",
    "    return alpha"
   ]
  },
  {
   "cell_type": "code",
   "execution_count": 41,
   "id": "mathematical-regulation",
   "metadata": {},
   "outputs": [],
   "source": [
    "def linear_fit_alpha(alpha, freq_dict):\n",
    "\n",
    "    ## Fits linear model: alpha = f(frequency) => computes asymtotic alpha -> (x=1)\n",
    "    f = list(freq_dict.keys())\n",
    "    model = LinearRegression().fit(np.array(f).reshape(-1, 1), np.array(alpha))\n",
    "    # R^2\n",
    "    rr = model.score(np.array(f).reshape(-1, 1), np.array(alpha))\n",
    "    # k - slope, b - intercept\n",
    "    k, b = float(model.coef_), float(model.intercept_)\n",
    "    \n",
    "    # plot data and the fit\n",
    "#     plt.scatter(f, alpha)\n",
    "#     plt.plot(f, [x * k + b for x in f], '--', color='red')\n",
    "#     plt.xlim(0, 1)\n",
    "#     plt.ylim(-1, 1)\n",
    "#     plt.xlabel('allele frequency')\n",
    "#     plt.ylabel('alpha')\n",
    "#     sns.despine(fig=None, ax=None, left=False, bottom=False, offset=None, trim=False)\n",
    "\n",
    "    # extrapolate to x = 1\n",
    "    asympt_alpha = 1 * k + b\n",
    "    return asympt_alpha"
   ]
  },
  {
   "cell_type": "code",
   "execution_count": null,
   "id": "affected-scotland",
   "metadata": {},
   "outputs": [],
   "source": []
  },
  {
   "cell_type": "code",
   "execution_count": 160,
   "id": "interesting-bleeding",
   "metadata": {},
   "outputs": [
    {
     "name": "stderr",
     "output_type": "stream",
     "text": [
      "/Users/osipova/local/Homebrew/lib/python3.7/site-packages/ipykernel_launcher.py:2: RuntimeWarning: invalid value encountered in log\n",
      "  \n"
     ]
    },
    {
     "data": {
      "text/plain": [
       "[<matplotlib.lines.Line2D at 0x14875ba50>]"
      ]
     },
     "execution_count": 160,
     "metadata": {},
     "output_type": "execute_result"
    },
    {
     "data": {
      "image/png": "[encoded data removed]",
      "text/plain": [
       "<Figure size 432x288 with 1 Axes>"
      ]
     },
     "metadata": {
      "needs_background": "light"
     },
     "output_type": "display_data"
    }
   ],
   "source": [
    "## alpha exponential fit\n",
    "ln_alpha = np.log(alpha)\n",
    "freqs = list(freq_dict.keys())\n",
    "\n",
    "# list(freq_dict.keys())\n",
    "model1 = np.polyfit(freqs, alpha, 1)\n",
    "a1, b1 = model1[0], model1[1]\n",
    "\n",
    "model2 = np.polyfit(freqs, ln_alpha, 1)\n",
    "a2, b2 = model2[0], model2[1]\n",
    "\n",
    "\n",
    "plt.scatter(freqs, alpha)\n",
    "plt.plot(freqs + [1], a1*np.array(freqs + [1]) + b1)\n",
    "plt.plot(freqs + [1], np.exp(b2) * np.exp(a2*np.array(freqs + [1])))"
   ]
  },
  {
   "cell_type": "code",
   "execution_count": 227,
   "id": "recovered-serve",
   "metadata": {},
   "outputs": [],
   "source": [
    "def exponential_fit(x, a, b, c):\n",
    "    return a * np.exp(b * x) + c\n",
    "\n",
    "def linear_fit(x, a, b):\n",
    "    return a * x + b"
   ]
  },
  {
   "cell_type": "code",
   "execution_count": 228,
   "id": "serious-signature",
   "metadata": {},
   "outputs": [
    {
     "data": {
      "text/plain": [
       "array([-2.71443574e+03, -5.58286989e+01,  2.60825646e-01])"
      ]
     },
     "execution_count": 228,
     "metadata": {},
     "output_type": "execute_result"
    }
   ],
   "source": [
    "# Messer et al 2017:  αfit(x) = -0.6*exp(−3.8x) + 0.6\n",
    "# x = df['x']\n",
    "# y = df['alpha']\n",
    "x = freqs\n",
    "y = alpha\n"
   ]
  },
  {
   "cell_type": "code",
   "execution_count": 236,
   "id": "offshore-photography",
   "metadata": {},
   "outputs": [
    {
     "name": "stdout",
     "output_type": "stream",
     "text": [
      "R^2 exp: 0.19237039775237785; R^2 linear: 0.16296032385815185\n"
     ]
    },
    {
     "data": {
      "image/png": "[encoded data removed]",
      "text/plain": [
       "<Figure size 288x288 with 1 Axes>"
      ]
     },
     "metadata": {
      "needs_background": "light"
     },
     "output_type": "display_data"
    }
   ],
   "source": [
    "popt_exp, pcov_exp = curve_fit(exponential_fit, x, y, p0=[-1,-1,1], maxfev=5000)\n",
    "y_exp_fit = exponential_fit(np.array(x), *popt_exp)\n",
    "\n",
    "popt_lin, pcov_lin = curve_fit(linear_fit, x, y)\n",
    "y_lin_fit = linear_fit(np.array(x), *popt_lin)\n",
    "\n",
    "fig, axes = plt.subplots(figsize=(4, 4))\n",
    "plt.scatter(x, y)\n",
    "plt.plot(x, y_exp_fit)\n",
    "plt.plot(x, y_lin_fit)\n",
    "plt.xlim(0, 1)\n",
    "plt.ylim(-1, 1)\n",
    "plt.xlabel('frequency')\n",
    "plt.ylabel('alpha')\n",
    "sns.despine(fig=None, ax=None, left=False, bottom=False, offset=None, trim=False)\n",
    "\n",
    "# Calculate R-squared\n",
    "ss_total = np.sum((y - np.mean(y)) ** 2)\n",
    "ss_residual_exp = np.sum((y - exponential_fit(np.array(x), *popt_exp)) ** 2)\n",
    "ss_residual_lin = np.sum((y - linear_fit(np.array(x), *popt_lin)) ** 2)\n",
    "rr_exp = 1 - (ss_residual_exp / ss_total)\n",
    "rr_lin = 1 - (ss_residual_lin / ss_total)\n",
    "\n",
    "print(\"R^2 exp: {}; R^2 linear: {}\".format(rr_exp, rr_lin))\n"
   ]
  },
  {
   "cell_type": "code",
   "execution_count": null,
   "id": "promising-routine",
   "metadata": {},
   "outputs": [],
   "source": []
  },
  {
   "cell_type": "code",
   "execution_count": null,
   "id": "wrong-grammar",
   "metadata": {},
   "outputs": [],
   "source": []
  },
  {
   "cell_type": "code",
   "execution_count": null,
   "id": "athletic-medicare",
   "metadata": {},
   "outputs": [],
   "source": []
  },
  {
   "cell_type": "code",
   "execution_count": 32,
   "id": "colored-jefferson",
   "metadata": {},
   "outputs": [
    {
     "name": "stdout",
     "output_type": "stream",
     "text": [
      "[0.25806451612903225, 0.016129032258064516, 0.20967741935483872, 0.04838709677419355, 0.016129032258064516, 0.05]\n",
      "[0.04838709677419355, 0.047619047619047616]\n"
     ]
    }
   ],
   "source": [
    "## Test get_af_from_vcf.py - exclude later!\n",
    "dir_path = '/Users/osipova/Documents/LabDocs/Brood_parasites_analysis/Extensions_MKT/'\n",
    "vcf_name = 'snpEff.polarized.passed.indInd.picPub.vcf.gz'\n",
    "vcf_data = pysam.VariantFile(dir_path + vcf_name)\n",
    "\n",
    "bed_line = 'CM051081 167553 167829'\n",
    "contig = bed_line.split()[0]\n",
    "start = int(bed_line.split()[1])\n",
    "end = int(bed_line.split()[2])\n",
    "\n",
    "AF_nonsyn = []\n",
    "AF_syn = []\n",
    "for i in vcf_data.fetch(contig, start, end):\n",
    "    POS = i.pos\n",
    "    REF = i.ref\n",
    "    ALT = i.alts[0]\n",
    "    AC = i.info['AC'][0]\n",
    "    AN = i.info['AN']\n",
    "    AA = i.info['AA']\n",
    "    \n",
    "    if AA != REF:\n",
    "        # check if snp wasn't introduced with the outgroup\n",
    "        if (AA == ALT) and (AC != 2):\n",
    "            # flip AC\n",
    "            AC = AN - AC\n",
    "        # exlude if it is new or 3-way to resolve\n",
    "        else:\n",
    "            AC = 0\n",
    "    # remove outgroup from AN\n",
    "    AN = AN - 2\n",
    "    AF = AC / AN\n",
    "    \n",
    "    if (AF != 0) and (AF != 1):\n",
    "        if 'missense_variant' in i.info['ANN'][0]:\n",
    "            AF_nonsyn.append(AF)\n",
    "        elif 'synonymous_variant' in i.info['ANN'][0]:\n",
    "            AF_syn.append(AF)\n",
    "\n",
    "print(AF_nonsyn)\n",
    "print(AF_syn)    "
   ]
  },
  {
   "cell_type": "code",
   "execution_count": null,
   "id": "cubic-martin",
   "metadata": {},
   "outputs": [],
   "source": []
  },
  {
   "cell_type": "code",
   "execution_count": 150,
   "id": "common-mason",
   "metadata": {},
   "outputs": [],
   "source": [
    "## Read your data per gene with syn/nonsyn AF\n",
    "# dir_path = '/Users/osipova/Documents/LabDocs/Brood_parasites_analysis/'\n",
    "file_name = 'MK_test_indInd_ncbi/test.af.gene.longest.mk.tsv'\n",
    "# file_data = glob(dir_path + file_name)[0]\n",
    "# df = pd.read_csv(file_data, sep='\\t')\n",
    "\n",
    "## Read Degenotate table line by line and store in dict\n",
    "mk_dict = {}\n",
    "with open(file_name, 'r') as inf:\n",
    "    for line in inf.readlines():\n",
    "        # exclude header and lines with empty AF fields  \n",
    "        if (not line.startswith('gene')) and (len(line.split()) == 11):\n",
    "            gene = line.split()[0]\n",
    "            mk_dict[gene] = {}\n",
    "            mk_dict[gene]['t'] = line.split()[1]\n",
    "            mk_dict[gene]['af_nonsyn'] = line.split()[2]\n",
    "            mk_dict[gene]['af_syn'] = line.split()[3]\n",
    "            mk_dict[gene]['dN'] = float(line.split()[6])\n",
    "            mk_dict[gene]['dS'] = float(line.split()[7])\n",
    "            mk_dict[gene]['pval'] = float(line.split()[8])\n",
    "            ni = line.split()[9]\n",
    "            if ni == 'NaN':\n",
    "                    mk_dict[gene]['standard_alpha'] = ni\n",
    "            else:\n",
    "                mk_dict[gene]['standard_alpha'] = 1 - float(ni)\n",
    "#             mk_dict[gene] = (t, af_nonsyn, af_syn, dN, dS, pval, standard_alpha)"
   ]
  },
  {
   "cell_type": "code",
   "execution_count": 156,
   "id": "dressed-produce",
   "metadata": {},
   "outputs": [
    {
     "name": "stdout",
     "output_type": "stream",
     "text": [
      "1\n"
     ]
    },
    {
     "ename": "ValueError",
     "evalue": "`bins` must be positive, when an integer",
     "output_type": "error",
     "traceback": [
      "\u001b[0;31m---------------------------------------------------------------------------\u001b[0m",
      "\u001b[0;31mValueError\u001b[0m                                Traceback (most recent call last)",
      "\u001b[0;32m<ipython-input-156-9205211401d5>\u001b[0m in \u001b[0;36m<module>\u001b[0;34m\u001b[0m\n\u001b[1;32m     35\u001b[0m \u001b[0;34m\u001b[0m\u001b[0m\n\u001b[1;32m     36\u001b[0m \u001b[0mfig\u001b[0m\u001b[0;34m,\u001b[0m \u001b[0maxes\u001b[0m \u001b[0;34m=\u001b[0m \u001b[0mplt\u001b[0m\u001b[0;34m.\u001b[0m\u001b[0msubplots\u001b[0m\u001b[0;34m(\u001b[0m\u001b[0mfigsize\u001b[0m\u001b[0;34m=\u001b[0m\u001b[0;34m(\u001b[0m\u001b[0;36m5\u001b[0m\u001b[0;34m,\u001b[0m \u001b[0;36m5\u001b[0m\u001b[0;34m)\u001b[0m\u001b[0;34m)\u001b[0m\u001b[0;34m\u001b[0m\u001b[0;34m\u001b[0m\u001b[0m\n\u001b[0;32m---> 37\u001b[0;31m \u001b[0msns\u001b[0m\u001b[0;34m.\u001b[0m\u001b[0mhistplot\u001b[0m\u001b[0;34m(\u001b[0m\u001b[0mdelta_list\u001b[0m\u001b[0;34m,\u001b[0m \u001b[0mbinwidth\u001b[0m\u001b[0;34m=\u001b[0m\u001b[0;36m3\u001b[0m\u001b[0;34m)\u001b[0m\u001b[0;34m\u001b[0m\u001b[0;34m\u001b[0m\u001b[0m\n\u001b[0m\u001b[1;32m     38\u001b[0m \u001b[0maxes\u001b[0m\u001b[0;34m.\u001b[0m\u001b[0mset_xlim\u001b[0m\u001b[0;34m(\u001b[0m\u001b[0;34m-\u001b[0m\u001b[0;36m30\u001b[0m\u001b[0;34m,\u001b[0m \u001b[0;36m30\u001b[0m\u001b[0;34m)\u001b[0m\u001b[0;34m\u001b[0m\u001b[0;34m\u001b[0m\u001b[0m\n",
      "\u001b[0;32m~/local/Homebrew/lib/python3.7/site-packages/seaborn/distributions.py\u001b[0m in \u001b[0;36mhistplot\u001b[0;34m(data, x, y, hue, weights, stat, bins, binwidth, binrange, discrete, cumulative, common_bins, common_norm, multiple, element, fill, shrink, kde, kde_kws, line_kws, thresh, pthresh, pmax, cbar, cbar_ax, cbar_kws, palette, hue_order, hue_norm, color, log_scale, legend, ax, **kwargs)\u001b[0m\n\u001b[1;32m   1473\u001b[0m             \u001b[0mestimate_kws\u001b[0m\u001b[0;34m=\u001b[0m\u001b[0mestimate_kws\u001b[0m\u001b[0;34m,\u001b[0m\u001b[0;34m\u001b[0m\u001b[0;34m\u001b[0m\u001b[0m\n\u001b[1;32m   1474\u001b[0m             \u001b[0mline_kws\u001b[0m\u001b[0;34m=\u001b[0m\u001b[0mline_kws\u001b[0m\u001b[0;34m,\u001b[0m\u001b[0;34m\u001b[0m\u001b[0;34m\u001b[0m\u001b[0m\n\u001b[0;32m-> 1475\u001b[0;31m             \u001b[0;34m**\u001b[0m\u001b[0mkwargs\u001b[0m\u001b[0;34m,\u001b[0m\u001b[0;34m\u001b[0m\u001b[0;34m\u001b[0m\u001b[0m\n\u001b[0m\u001b[1;32m   1476\u001b[0m         )\n\u001b[1;32m   1477\u001b[0m \u001b[0;34m\u001b[0m\u001b[0m\n",
      "\u001b[0;32m~/local/Homebrew/lib/python3.7/site-packages/seaborn/distributions.py\u001b[0m in \u001b[0;36mplot_univariate_histogram\u001b[0;34m(self, multiple, element, fill, common_norm, common_bins, shrink, kde, kde_kws, color, legend, line_kws, estimate_kws, **plot_kws)\u001b[0m\n\u001b[1;32m    439\u001b[0m \u001b[0;34m\u001b[0m\u001b[0m\n\u001b[1;32m    440\u001b[0m             \u001b[0;31m# Do the histogram computation\u001b[0m\u001b[0;34m\u001b[0m\u001b[0;34m\u001b[0m\u001b[0;34m\u001b[0m\u001b[0m\n\u001b[0;32m--> 441\u001b[0;31m             \u001b[0mheights\u001b[0m\u001b[0;34m,\u001b[0m \u001b[0medges\u001b[0m \u001b[0;34m=\u001b[0m \u001b[0mestimator\u001b[0m\u001b[0;34m(\u001b[0m\u001b[0mobservations\u001b[0m\u001b[0;34m,\u001b[0m \u001b[0mweights\u001b[0m\u001b[0;34m=\u001b[0m\u001b[0mweights\u001b[0m\u001b[0;34m)\u001b[0m\u001b[0;34m\u001b[0m\u001b[0;34m\u001b[0m\u001b[0m\n\u001b[0m\u001b[1;32m    442\u001b[0m \u001b[0;34m\u001b[0m\u001b[0m\n\u001b[1;32m    443\u001b[0m             \u001b[0;31m# Rescale the smoothed curve to match the histogram\u001b[0m\u001b[0;34m\u001b[0m\u001b[0;34m\u001b[0m\u001b[0;34m\u001b[0m\u001b[0m\n",
      "\u001b[0;32m~/local/Homebrew/lib/python3.7/site-packages/seaborn/_statistics.py\u001b[0m in \u001b[0;36m__call__\u001b[0;34m(self, x1, x2, weights)\u001b[0m\n\u001b[1;32m    384\u001b[0m         \u001b[0;34m\"\"\"Count the occurrences in each bin, maybe normalize.\"\"\"\u001b[0m\u001b[0;34m\u001b[0m\u001b[0;34m\u001b[0m\u001b[0m\n\u001b[1;32m    385\u001b[0m         \u001b[0;32mif\u001b[0m \u001b[0mx2\u001b[0m \u001b[0;32mis\u001b[0m \u001b[0;32mNone\u001b[0m\u001b[0;34m:\u001b[0m\u001b[0;34m\u001b[0m\u001b[0;34m\u001b[0m\u001b[0m\n\u001b[0;32m--> 386\u001b[0;31m             \u001b[0;32mreturn\u001b[0m \u001b[0mself\u001b[0m\u001b[0;34m.\u001b[0m\u001b[0m_eval_univariate\u001b[0m\u001b[0;34m(\u001b[0m\u001b[0mx1\u001b[0m\u001b[0;34m,\u001b[0m \u001b[0mweights\u001b[0m\u001b[0;34m)\u001b[0m\u001b[0;34m\u001b[0m\u001b[0;34m\u001b[0m\u001b[0m\n\u001b[0m\u001b[1;32m    387\u001b[0m         \u001b[0;32melse\u001b[0m\u001b[0;34m:\u001b[0m\u001b[0;34m\u001b[0m\u001b[0;34m\u001b[0m\u001b[0m\n\u001b[1;32m    388\u001b[0m             \u001b[0;32mreturn\u001b[0m \u001b[0mself\u001b[0m\u001b[0;34m.\u001b[0m\u001b[0m_eval_bivariate\u001b[0m\u001b[0;34m(\u001b[0m\u001b[0mx1\u001b[0m\u001b[0;34m,\u001b[0m \u001b[0mx2\u001b[0m\u001b[0;34m,\u001b[0m \u001b[0mweights\u001b[0m\u001b[0;34m)\u001b[0m\u001b[0;34m\u001b[0m\u001b[0;34m\u001b[0m\u001b[0m\n",
      "\u001b[0;32m~/local/Homebrew/lib/python3.7/site-packages/seaborn/_statistics.py\u001b[0m in \u001b[0;36m_eval_univariate\u001b[0;34m(self, x, weights)\u001b[0m\n\u001b[1;32m    363\u001b[0m         \u001b[0mdensity\u001b[0m \u001b[0;34m=\u001b[0m \u001b[0mself\u001b[0m\u001b[0;34m.\u001b[0m\u001b[0mstat\u001b[0m \u001b[0;34m==\u001b[0m \u001b[0;34m\"density\"\u001b[0m\u001b[0;34m\u001b[0m\u001b[0;34m\u001b[0m\u001b[0m\n\u001b[1;32m    364\u001b[0m         hist, bin_edges = np.histogram(\n\u001b[0;32m--> 365\u001b[0;31m             \u001b[0mx\u001b[0m\u001b[0;34m,\u001b[0m \u001b[0;34m**\u001b[0m\u001b[0mbin_kws\u001b[0m\u001b[0;34m,\u001b[0m \u001b[0mweights\u001b[0m\u001b[0;34m=\u001b[0m\u001b[0mweights\u001b[0m\u001b[0;34m,\u001b[0m \u001b[0mdensity\u001b[0m\u001b[0;34m=\u001b[0m\u001b[0mdensity\u001b[0m\u001b[0;34m,\u001b[0m\u001b[0;34m\u001b[0m\u001b[0;34m\u001b[0m\u001b[0m\n\u001b[0m\u001b[1;32m    366\u001b[0m         )\n\u001b[1;32m    367\u001b[0m \u001b[0;34m\u001b[0m\u001b[0m\n",
      "\u001b[0;32m<__array_function__ internals>\u001b[0m in \u001b[0;36mhistogram\u001b[0;34m(*args, **kwargs)\u001b[0m\n",
      "\u001b[0;32m~/local/Homebrew/lib/python3.7/site-packages/numpy/lib/histograms.py\u001b[0m in \u001b[0;36mhistogram\u001b[0;34m(a, bins, range, normed, weights, density)\u001b[0m\n\u001b[1;32m    793\u001b[0m     \u001b[0ma\u001b[0m\u001b[0;34m,\u001b[0m \u001b[0mweights\u001b[0m \u001b[0;34m=\u001b[0m \u001b[0m_ravel_and_check_weights\u001b[0m\u001b[0;34m(\u001b[0m\u001b[0ma\u001b[0m\u001b[0;34m,\u001b[0m \u001b[0mweights\u001b[0m\u001b[0;34m)\u001b[0m\u001b[0;34m\u001b[0m\u001b[0;34m\u001b[0m\u001b[0m\n\u001b[1;32m    794\u001b[0m \u001b[0;34m\u001b[0m\u001b[0m\n\u001b[0;32m--> 795\u001b[0;31m     \u001b[0mbin_edges\u001b[0m\u001b[0;34m,\u001b[0m \u001b[0muniform_bins\u001b[0m \u001b[0;34m=\u001b[0m \u001b[0m_get_bin_edges\u001b[0m\u001b[0;34m(\u001b[0m\u001b[0ma\u001b[0m\u001b[0;34m,\u001b[0m \u001b[0mbins\u001b[0m\u001b[0;34m,\u001b[0m \u001b[0mrange\u001b[0m\u001b[0;34m,\u001b[0m \u001b[0mweights\u001b[0m\u001b[0;34m)\u001b[0m\u001b[0;34m\u001b[0m\u001b[0;34m\u001b[0m\u001b[0m\n\u001b[0m\u001b[1;32m    796\u001b[0m \u001b[0;34m\u001b[0m\u001b[0m\n\u001b[1;32m    797\u001b[0m     \u001b[0;31m# Histogram is an integer or a float array depending on the weights.\u001b[0m\u001b[0;34m\u001b[0m\u001b[0;34m\u001b[0m\u001b[0;34m\u001b[0m\u001b[0m\n",
      "\u001b[0;32m~/local/Homebrew/lib/python3.7/site-packages/numpy/lib/histograms.py\u001b[0m in \u001b[0;36m_get_bin_edges\u001b[0;34m(a, bins, range, weights)\u001b[0m\n\u001b[1;32m    425\u001b[0m                 '`bins` must be an integer, a string, or an array')\n\u001b[1;32m    426\u001b[0m         \u001b[0;32mif\u001b[0m \u001b[0mn_equal_bins\u001b[0m \u001b[0;34m<\u001b[0m \u001b[0;36m1\u001b[0m\u001b[0;34m:\u001b[0m\u001b[0;34m\u001b[0m\u001b[0;34m\u001b[0m\u001b[0m\n\u001b[0;32m--> 427\u001b[0;31m             \u001b[0;32mraise\u001b[0m \u001b[0mValueError\u001b[0m\u001b[0;34m(\u001b[0m\u001b[0;34m'`bins` must be positive, when an integer'\u001b[0m\u001b[0;34m)\u001b[0m\u001b[0;34m\u001b[0m\u001b[0;34m\u001b[0m\u001b[0m\n\u001b[0m\u001b[1;32m    428\u001b[0m \u001b[0;34m\u001b[0m\u001b[0m\n\u001b[1;32m    429\u001b[0m         \u001b[0mfirst_edge\u001b[0m\u001b[0;34m,\u001b[0m \u001b[0mlast_edge\u001b[0m \u001b[0;34m=\u001b[0m \u001b[0m_get_outer_edges\u001b[0m\u001b[0;34m(\u001b[0m\u001b[0ma\u001b[0m\u001b[0;34m,\u001b[0m \u001b[0mrange\u001b[0m\u001b[0;34m)\u001b[0m\u001b[0;34m\u001b[0m\u001b[0;34m\u001b[0m\u001b[0m\n",
      "\u001b[0;31mValueError\u001b[0m: `bins` must be positive, when an integer"
     ]
    },
    {
     "data": {
      "image/png": "[encoded data removed]",
      "text/plain": [
       "<Figure size 360x360 with 1 Axes>"
      ]
     },
     "metadata": {
      "needs_background": "light"
     },
     "output_type": "display_data"
    }
   ],
   "source": [
    "i = 0\n",
    "delta_list = []\n",
    "\n",
    "for g in ['DST']:\n",
    "#     g = 'MOV10L1'\n",
    "    d = mk_dict[g]['dN']\n",
    "    d0 = mk_dict[g]['dS']\n",
    "    pN_list = [float(i) for i in mk_dict[g]['af_nonsyn'].split(',')]\n",
    "    pS_list = [float(i) for i in mk_dict[g]['af_syn'].split(',')]\n",
    "    standard_alpha = mk_dict[g]['standard_alpha']\n",
    "    \n",
    "    if (d > 0) and (standard_alpha != 'NaN'):\n",
    "        freq_dict = make_sfs(pN_list, pS_list)\n",
    "        alpha = claculate_alpha_x(d, d0, freq_dict)\n",
    "        if len(alpha) > 1:\n",
    "            asympt_alpha = linear_fit_alpha(alpha, freq_dict)\n",
    "#             print('standard alpha: {}; asymptotic alpha: {}'.format(standard_alpha, asympt_alpha))\n",
    "            delta_list.append(asympt_alpha - standard_alpha)\n",
    "            i += 1\n",
    "        else:\n",
    "            asympt_alpha = standard_alpha\n",
    "\n",
    "    ## plot data\n",
    "    \n",
    "    # f = list(freq_dict.keys())\n",
    "    # p = [freq_dict[f][0] for f in freq_dict]\n",
    "    # p0 = [freq_dict[f][1] for f in freq_dict]\n",
    "    # print(f)\n",
    "    # print(p)\n",
    "    # print(p0)\n",
    "    # print(d)\n",
    "    # print(d0)\n",
    "#         print('standard alpha: {}; asymptotic alpha: {}'.format(standard_alpha, asympt_alpha))\n",
    "print(i)\n",
    "\n",
    "fig, axes = plt.subplots(figsize=(5, 5))\n",
    "sns.histplot(delta_list, binwidth=3)\n",
    "axes.set_xlim(-30, 30)"
   ]
  },
  {
   "cell_type": "code",
   "execution_count": 157,
   "id": "blessed-effect",
   "metadata": {},
   "outputs": [
    {
     "data": {
      "text/plain": [
       "{0.154: (29, 19),\n",
       " 0.279: (10, 11),\n",
       " 0.403: (4, 5),\n",
       " 0.527: (5, 3),\n",
       " 0.651: (1, 4),\n",
       " 0.776: (4, 3),\n",
       " 0.9: (1, 2)}"
      ]
     },
     "execution_count": 157,
     "metadata": {},
     "output_type": "execute_result"
    }
   ],
   "source": [
    "freq_dict\n"
   ]
  },
  {
   "cell_type": "code",
   "execution_count": 158,
   "id": "concerned-league",
   "metadata": {},
   "outputs": [
    {
     "data": {
      "text/plain": [
       "<matplotlib.axes._subplots.AxesSubplot at 0x1482ea210>"
      ]
     },
     "execution_count": 158,
     "metadata": {},
     "output_type": "execute_result"
    },
    {
     "data": {
      "image/png": "[encoded data removed]",
      "text/plain": [
       "<Figure size 432x288 with 1 Axes>"
      ]
     },
     "metadata": {
      "needs_background": "light"
     },
     "output_type": "display_data"
    }
   ],
   "source": [
    "df_g = pd.DataFrame(zip(list(freq_dict.keys()) * 2,\n",
    "                        [i[1] for i in freq_dict.values()] + [i[0] for i in freq_dict.values()],\n",
    "                        ['pS']*len(freq_dict) + ['pN']*len(freq_dict)),\n",
    "                    columns = ['freq', 'count', 'class'])\n",
    "\n",
    "sns.barplot(data=df_g, x='freq', y='count', hue='class')"
   ]
  },
  {
   "cell_type": "code",
   "execution_count": 159,
   "id": "eleven-albert",
   "metadata": {},
   "outputs": [
    {
     "data": {
      "text/plain": [
       "[-0.24013157894736836,\n",
       " 0.26136363636363635,\n",
       " 0.35,\n",
       " -0.35416666666666674,\n",
       " 0.796875,\n",
       " -0.08333333333333326,\n",
       " 0.59375]"
      ]
     },
     "execution_count": 159,
     "metadata": {},
     "output_type": "execute_result"
    }
   ],
   "source": [
    "alpha"
   ]
  },
  {
   "cell_type": "code",
   "execution_count": null,
   "id": "residential-providence",
   "metadata": {},
   "outputs": [],
   "source": []
  }
 ],
 "metadata": {
  "kernelspec": {
   "display_name": "Python 3",
   "language": "python",
   "name": "python3"
  },
  "language_info": {
   "codemirror_mode": {
    "name": "ipython",
    "version": 3
   },
   "file_extension": ".py",
   "mimetype": "text/x-python",
   "name": "python",
   "nbconvert_exporter": "python",
   "pygments_lexer": "ipython3",
   "version": "3.7.5"
  }
 },
 "nbformat": 4,
 "nbformat_minor": 5
}
