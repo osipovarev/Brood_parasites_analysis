{
 "cells": [
  {
   "cell_type": "code",
   "execution_count": 2,
   "id": "dangerous-vegetarian",
   "metadata": {},
   "outputs": [],
   "source": [
    "%matplotlib inline\n",
    "from os import listdir\n",
    "from os.path import isfile, join\n",
    "import numpy as np\n",
    "from glob import glob\n",
    "import pandas as pd\n",
    "from matplotlib import pyplot as plt\n",
    "import seaborn as sns\n",
    "import matplotlib\n",
    "import statsmodels.stats.multitest as smt\n",
    "matplotlib.rcParams['pdf.fonttype'] = 42\n",
    "matplotlib.rcParams['ps.fonttype'] = 42"
   ]
  },
  {
   "cell_type": "code",
   "execution_count": 41,
   "id": "suitable-charger",
   "metadata": {},
   "outputs": [
    {
     "data": {
      "image/png": "[encoded data removed]",
      "text/plain": [
       "<Figure size 360x360 with 1 Axes>"
      ]
     },
     "metadata": {
      "needs_background": "light"
     },
     "output_type": "display_data"
    }
   ],
   "source": [
    "N = 10000\n",
    "density = 0.3\n",
    "\n",
    "# Generate a random matrix with 1s and 0s\n",
    "random_matrix = np.random.choice([0, 1], size=(N, N-1), p=[1 - density, density])\n",
    "\n",
    "# Calculate the sum of each column\n",
    "column_average = np.average(random_matrix, axis=0)\n",
    "\n",
    "fig, axes = plt.subplots(figsize = (5, 5))\n",
    "sns.histplot(column_average, alpha=0.4, element=\"step\")\n",
    "\n",
    "sns.despine(fig=None, ax=None, left=False, bottom=False, offset=None, trim=False)\n",
    "fig.tight_layout()"
   ]
  },
  {
   "cell_type": "code",
   "execution_count": 4,
   "id": "lined-louisiana",
   "metadata": {},
   "outputs": [
    {
     "data": {
      "image/png": "[encoded data removed]",
      "text/plain": [
       "<Figure size 360x360 with 1 Axes>"
      ]
     },
     "metadata": {
      "needs_background": "light"
     },
     "output_type": "display_data"
    }
   ],
   "source": [
    "N = 10\n",
    "\n",
    "# Generate a matrix with random integers between 1 and 10\n",
    "random_matrix = np.random.randint(1, 11, size=(N, N-1))\n",
    "\n",
    "# Calculate the average of each column\n",
    "column_average = np.average(random_matrix, axis=0)\n",
    "\n",
    "\n",
    "# Define different probabilities for each column based on the number of columns\n",
    "mean_prob = 5.5\n",
    "std_dev_prob = 1.0  # You can adjust this value based on your preference\n",
    "\n",
    "# Generate probabilities for each column from a normal distribution\n",
    "column_probabilities = np.random.normal(loc=mean_prob, scale=std_dev_prob, size=(N, 10))\n",
    "column_probabilities = (column_probabilities.T / column_probabilities.sum(axis=1)).T\n",
    "\n",
    "\n",
    "# Generate a matrix with random values based on the specified probabilities\n",
    "random_matrix_pref = np.array([np.random.choice(range(1, 11), size=N, p=prob) for prob in column_probabilities])\n",
    "\n",
    "# Calculate the average of each column\n",
    "column_average_pref = np.average(random_matrix_pref, axis=0)\n",
    "\n",
    "fig, axes = plt.subplots(figsize = (5, 5))\n",
    "sns.histplot(column_average, alpha=0.3, element=\"step\")\n",
    "sns.histplot(column_average_pref, alpha=0.3, color='red', element=\"step\")\n",
    "\n",
    "sns.despine(fig=None, ax=None, left=False, bottom=False, offset=None, trim=False)\n",
    "fig.tight_layout()"
   ]
  },
  {
   "cell_type": "code",
   "execution_count": 5,
   "id": "optimum-playback",
   "metadata": {},
   "outputs": [
    {
     "data": {
      "text/plain": [
       "array([[0.10904583, 0.09652932, 0.10134912, 0.0952498 , 0.11211168,\n",
       "        0.11404735, 0.12235464, 0.08066025, 0.08290054, 0.08575148],\n",
       "       [0.11978912, 0.11167607, 0.11451939, 0.10485325, 0.09558135,\n",
       "        0.10189175, 0.07266816, 0.08790864, 0.1016978 , 0.08941448],\n",
       "       [0.07360243, 0.10587747, 0.11813576, 0.12450611, 0.11114022,\n",
       "        0.08667748, 0.06322385, 0.07768502, 0.10793112, 0.13122053],\n",
       "       [0.1157912 , 0.09090916, 0.07368426, 0.12503389, 0.09372766,\n",
       "        0.10516919, 0.08994793, 0.10387724, 0.09040948, 0.11144998],\n",
       "       [0.11146773, 0.08675255, 0.0810048 , 0.09126353, 0.10611173,\n",
       "        0.0971039 , 0.12489332, 0.07509544, 0.11688297, 0.10942402],\n",
       "       [0.08678353, 0.08839753, 0.08552611, 0.08902341, 0.11199789,\n",
       "        0.11343694, 0.10445844, 0.09520009, 0.11275991, 0.11241615],\n",
       "       [0.11074914, 0.09020838, 0.09710104, 0.11745255, 0.09511324,\n",
       "        0.09465082, 0.08507379, 0.11540215, 0.11344213, 0.08080676],\n",
       "       [0.0727756 , 0.09688675, 0.10018266, 0.11282642, 0.06614667,\n",
       "        0.10903259, 0.09374546, 0.10805572, 0.1178079 , 0.12254023],\n",
       "       [0.07986361, 0.10657233, 0.09429943, 0.09616223, 0.104287  ,\n",
       "        0.10364536, 0.10667959, 0.0869811 , 0.11482371, 0.10668564],\n",
       "       [0.12282028, 0.0999707 , 0.09473998, 0.12251341, 0.07355252,\n",
       "        0.10023963, 0.09227047, 0.07645211, 0.11173147, 0.10570943]])"
      ]
     },
     "execution_count": 5,
     "metadata": {},
     "output_type": "execute_result"
    }
   ],
   "source": [
    "column_probabilities"
   ]
  },
  {
   "cell_type": "code",
   "execution_count": null,
   "id": "faced-slovakia",
   "metadata": {},
   "outputs": [],
   "source": []
  }
 ],
 "metadata": {
  "kernelspec": {
   "display_name": "Python 3",
   "language": "python",
   "name": "python3"
  },
  "language_info": {
   "codemirror_mode": {
    "name": "ipython",
    "version": 3
   },
   "file_extension": ".py",
   "mimetype": "text/x-python",
   "name": "python",
   "nbconvert_exporter": "python",
   "pygments_lexer": "ipython3",
   "version": "3.7.5"
  }
 },
 "nbformat": 4,
 "nbformat_minor": 5
}
