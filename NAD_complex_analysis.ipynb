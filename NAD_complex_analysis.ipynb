{
 "cells": [
  {
   "cell_type": "code",
   "execution_count": 141,
   "id": "behavioral-creativity",
   "metadata": {},
   "outputs": [],
   "source": [
    "## import for plotting\n",
    "%matplotlib inline\n",
    "from os import listdir\n",
    "from os.path import isfile, join\n",
    "import numpy as np\n",
    "from glob import glob\n",
    "import pandas as pd\n",
    "from matplotlib import pyplot as plt\n",
    "import seaborn as sns\n",
    "import matplotlib\n",
    "matplotlib.rcParams['pdf.fonttype'] = 42\n",
    "matplotlib.rcParams['ps.fonttype'] = 42\n",
    "from adjustText import adjust_text"
   ]
  },
  {
   "cell_type": "code",
   "execution_count": 149,
   "id": "devoted-dancing",
   "metadata": {},
   "outputs": [],
   "source": [
    "# !pip3 install statannotations\n",
    "## import for stats\n",
    "import statsmodels.stats.multitest as smt\n",
    "from scipy import stats\n",
    "from collections import defaultdict\n",
    "from statannotations.Annotator import Annotator"
   ]
  },
  {
   "cell_type": "code",
   "execution_count": 79,
   "id": "inner-palestinian",
   "metadata": {},
   "outputs": [],
   "source": [
    "## import for PDB manipulation\n",
    "from Bio import PDB\n",
    "from Bio.PDB import PDBParser\n",
    "from Bio.PDB import PDBIO"
   ]
  },
  {
   "cell_type": "markdown",
   "id": "agricultural-howard",
   "metadata": {},
   "source": [
    "### Renumber residues in combined pdb files so the numbers go throughout"
   ]
  },
  {
   "cell_type": "code",
   "execution_count": 97,
   "id": "distinct-failure",
   "metadata": {},
   "outputs": [],
   "source": [
    "def renumber_residues(input_pdb, output_pdb):\n",
    "    current_residue_number = None\n",
    "    new_residue_number = 0\n",
    "    output_lines = []\n",
    "\n",
    "    with open(input_pdb, 'r') as file:\n",
    "        lines = file.readlines()\n",
    "\n",
    "    for line in lines:\n",
    "        if line.startswith((\"ATOM\", \"HETATM\")):\n",
    "            # Extract the current residue number (column 6)\n",
    "            residue_number = int(line[22:26].strip())\n",
    "\n",
    "            # Check if it's a new residue number\n",
    "            if residue_number != current_residue_number:\n",
    "                current_residue_number = residue_number\n",
    "                new_residue_number += 1\n",
    "\n",
    "            # Format the new residue number and replace it in the line\n",
    "            new_line = (line[:22] + f\"{new_residue_number:>4}\" + line[26:])\n",
    "            output_lines.append(new_line)\n",
    "        else:\n",
    "            output_lines.append(line)\n",
    "\n",
    "    # Write the modified lines to the output file\n",
    "    with open(output_pdb, 'w') as file:\n",
    "        file.writelines(output_lines)"
   ]
  },
  {
   "cell_type": "code",
   "execution_count": 98,
   "id": "signed-correspondence",
   "metadata": {},
   "outputs": [],
   "source": [
    "dir_path = '/Users/osipova/Documents/LabDocs/Brood_parasites_analysis/NAD_complex_structure/'\n",
    "\n",
    "renumber_residues(dir_path + 'complex_I_anoImb_M_N_ddN.pdb', dir_path + 'renum.complex_I_anoImb_M_N_ddN.pdb')\n",
    "renumber_residues(dir_path + 'complex_I_anoImb_M_N_BEB.pdb', dir_path + 'renum.complex_I_anoImb_M_N_BEB.pdb')"
   ]
  },
  {
   "cell_type": "markdown",
   "id": "secondary-reverse",
   "metadata": {},
   "source": [
    "### Compute distance between MT-encoded proteins (chain M) and nuclear-encoded proteins (chain N)"
   ]
  },
  {
   "cell_type": "code",
   "execution_count": 62,
   "id": "patient-proportion",
   "metadata": {},
   "outputs": [],
   "source": [
    "def get_pdb_structure(pdb_file):\n",
    "    ### Load the PDB file\n",
    "    \n",
    "    pdb_parser = PDB.PDBParser(QUIET=True)\n",
    "    structure = pdb_parser.get_structure('protein', pdb_file)\n",
    "    return structure"
   ]
  },
  {
   "cell_type": "code",
   "execution_count": 63,
   "id": "textile-alloy",
   "metadata": {},
   "outputs": [],
   "source": [
    "def calculate_distance(coord1, coord2):\n",
    "    ### Function to calculate distance between two points\n",
    "    return np.linalg.norm(coord1 - coord2)"
   ]
  },
  {
   "cell_type": "code",
   "execution_count": 99,
   "id": "timely-excerpt",
   "metadata": {},
   "outputs": [
    {
     "data": {
      "text/html": [
       "<div>\n",
       "<style scoped>\n",
       "    .dataframe tbody tr th:only-of-type {\n",
       "        vertical-align: middle;\n",
       "    }\n",
       "\n",
       "    .dataframe tbody tr th {\n",
       "        vertical-align: top;\n",
       "    }\n",
       "\n",
       "    .dataframe thead th {\n",
       "        text-align: right;\n",
       "    }\n",
       "</style>\n",
       "<table border=\"1\" class=\"dataframe\">\n",
       "  <thead>\n",
       "    <tr style=\"text-align: right;\">\n",
       "      <th></th>\n",
       "      <th>MET_1</th>\n",
       "      <th>THR_2</th>\n",
       "      <th>ASN_3</th>\n",
       "      <th>HIS_4</th>\n",
       "      <th>PRO_5</th>\n",
       "      <th>MET_6</th>\n",
       "      <th>LEU_7</th>\n",
       "      <th>ILE_8</th>\n",
       "      <th>ASN_9</th>\n",
       "      <th>LEU_10</th>\n",
       "      <th>...</th>\n",
       "      <th>GLY_2112</th>\n",
       "      <th>LEU_2113</th>\n",
       "      <th>SER_2114</th>\n",
       "      <th>ARG_2115</th>\n",
       "      <th>GLY_2116</th>\n",
       "      <th>ALA_2117</th>\n",
       "      <th>ILE_2118</th>\n",
       "      <th>ARG_2119</th>\n",
       "      <th>ALA_2120</th>\n",
       "      <th>VAL_2121</th>\n",
       "    </tr>\n",
       "  </thead>\n",
       "  <tbody>\n",
       "    <tr>\n",
       "      <th>MET_2122</th>\n",
       "      <td>55.015274</td>\n",
       "      <td>55.009197</td>\n",
       "      <td>52.996067</td>\n",
       "      <td>51.425522</td>\n",
       "      <td>49.828991</td>\n",
       "      <td>48.470726</td>\n",
       "      <td>46.577038</td>\n",
       "      <td>45.151386</td>\n",
       "      <td>44.115421</td>\n",
       "      <td>42.570705</td>\n",
       "      <td>...</td>\n",
       "      <td>60.545460</td>\n",
       "      <td>58.708694</td>\n",
       "      <td>57.802475</td>\n",
       "      <td>61.152195</td>\n",
       "      <td>63.755150</td>\n",
       "      <td>66.560242</td>\n",
       "      <td>64.517250</td>\n",
       "      <td>62.830669</td>\n",
       "      <td>62.560970</td>\n",
       "      <td>64.053772</td>\n",
       "    </tr>\n",
       "    <tr>\n",
       "      <th>TRP_2123</th>\n",
       "      <td>53.039963</td>\n",
       "      <td>53.042133</td>\n",
       "      <td>50.843788</td>\n",
       "      <td>49.352093</td>\n",
       "      <td>47.541759</td>\n",
       "      <td>46.303802</td>\n",
       "      <td>44.590931</td>\n",
       "      <td>42.973400</td>\n",
       "      <td>41.779293</td>\n",
       "      <td>40.470440</td>\n",
       "      <td>...</td>\n",
       "      <td>58.066101</td>\n",
       "      <td>56.393703</td>\n",
       "      <td>55.545761</td>\n",
       "      <td>58.849365</td>\n",
       "      <td>61.387482</td>\n",
       "      <td>64.261116</td>\n",
       "      <td>62.235249</td>\n",
       "      <td>60.710075</td>\n",
       "      <td>60.580334</td>\n",
       "      <td>62.250172</td>\n",
       "    </tr>\n",
       "    <tr>\n",
       "      <th>TYR_2124</th>\n",
       "      <td>50.068611</td>\n",
       "      <td>50.226425</td>\n",
       "      <td>48.150162</td>\n",
       "      <td>46.791748</td>\n",
       "      <td>45.124886</td>\n",
       "      <td>44.026363</td>\n",
       "      <td>42.113728</td>\n",
       "      <td>40.424622</td>\n",
       "      <td>39.491623</td>\n",
       "      <td>38.216492</td>\n",
       "      <td>...</td>\n",
       "      <td>59.876221</td>\n",
       "      <td>58.240368</td>\n",
       "      <td>57.605129</td>\n",
       "      <td>60.953564</td>\n",
       "      <td>63.334774</td>\n",
       "      <td>66.148773</td>\n",
       "      <td>63.986702</td>\n",
       "      <td>62.606281</td>\n",
       "      <td>62.402981</td>\n",
       "      <td>64.195854</td>\n",
       "    </tr>\n",
       "    <tr>\n",
       "      <th>GLU_2125</th>\n",
       "      <td>49.026562</td>\n",
       "      <td>48.977764</td>\n",
       "      <td>47.018196</td>\n",
       "      <td>45.423580</td>\n",
       "      <td>43.920033</td>\n",
       "      <td>42.553505</td>\n",
       "      <td>40.569477</td>\n",
       "      <td>39.192017</td>\n",
       "      <td>38.259724</td>\n",
       "      <td>36.649460</td>\n",
       "      <td>...</td>\n",
       "      <td>59.211292</td>\n",
       "      <td>57.378174</td>\n",
       "      <td>56.863602</td>\n",
       "      <td>60.324314</td>\n",
       "      <td>62.639919</td>\n",
       "      <td>65.304718</td>\n",
       "      <td>63.002209</td>\n",
       "      <td>61.540691</td>\n",
       "      <td>61.113300</td>\n",
       "      <td>62.813034</td>\n",
       "    </tr>\n",
       "    <tr>\n",
       "      <th>ILE_2126</th>\n",
       "      <td>46.746826</td>\n",
       "      <td>46.599575</td>\n",
       "      <td>44.443596</td>\n",
       "      <td>42.827477</td>\n",
       "      <td>41.108440</td>\n",
       "      <td>39.758141</td>\n",
       "      <td>37.992359</td>\n",
       "      <td>36.513149</td>\n",
       "      <td>35.347801</td>\n",
       "      <td>33.884232</td>\n",
       "      <td>...</td>\n",
       "      <td>56.145565</td>\n",
       "      <td>54.414524</td>\n",
       "      <td>54.013912</td>\n",
       "      <td>57.461617</td>\n",
       "      <td>59.675301</td>\n",
       "      <td>62.349182</td>\n",
       "      <td>60.014530</td>\n",
       "      <td>58.697533</td>\n",
       "      <td>58.335915</td>\n",
       "      <td>60.187191</td>\n",
       "    </tr>\n",
       "  </tbody>\n",
       "</table>\n",
       "<p>5 rows × 2121 columns</p>\n",
       "</div>"
      ],
      "text/plain": [
       "              MET_1      THR_2      ASN_3      HIS_4      PRO_5      MET_6  \\\n",
       "MET_2122  55.015274  55.009197  52.996067  51.425522  49.828991  48.470726   \n",
       "TRP_2123  53.039963  53.042133  50.843788  49.352093  47.541759  46.303802   \n",
       "TYR_2124  50.068611  50.226425  48.150162  46.791748  45.124886  44.026363   \n",
       "GLU_2125  49.026562  48.977764  47.018196  45.423580  43.920033  42.553505   \n",
       "ILE_2126  46.746826  46.599575  44.443596  42.827477  41.108440  39.758141   \n",
       "\n",
       "              LEU_7      ILE_8      ASN_9     LEU_10  ...   GLY_2112  \\\n",
       "MET_2122  46.577038  45.151386  44.115421  42.570705  ...  60.545460   \n",
       "TRP_2123  44.590931  42.973400  41.779293  40.470440  ...  58.066101   \n",
       "TYR_2124  42.113728  40.424622  39.491623  38.216492  ...  59.876221   \n",
       "GLU_2125  40.569477  39.192017  38.259724  36.649460  ...  59.211292   \n",
       "ILE_2126  37.992359  36.513149  35.347801  33.884232  ...  56.145565   \n",
       "\n",
       "           LEU_2113   SER_2114   ARG_2115   GLY_2116   ALA_2117   ILE_2118  \\\n",
       "MET_2122  58.708694  57.802475  61.152195  63.755150  66.560242  64.517250   \n",
       "TRP_2123  56.393703  55.545761  58.849365  61.387482  64.261116  62.235249   \n",
       "TYR_2124  58.240368  57.605129  60.953564  63.334774  66.148773  63.986702   \n",
       "GLU_2125  57.378174  56.863602  60.324314  62.639919  65.304718  63.002209   \n",
       "ILE_2126  54.414524  54.013912  57.461617  59.675301  62.349182  60.014530   \n",
       "\n",
       "           ARG_2119   ALA_2120   VAL_2121  \n",
       "MET_2122  62.830669  62.560970  64.053772  \n",
       "TRP_2123  60.710075  60.580334  62.250172  \n",
       "TYR_2124  62.606281  62.402981  64.195854  \n",
       "GLU_2125  61.540691  61.113300  62.813034  \n",
       "ILE_2126  58.697533  58.335915  60.187191  \n",
       "\n",
       "[5 rows x 2121 columns]"
      ]
     },
     "execution_count": 99,
     "metadata": {},
     "output_type": "execute_result"
    }
   ],
   "source": [
    "pdb_file = 'renum.complex_I_anoImb_M_N_ddN.pdb'\n",
    "structure = get_pdb_structure(dir_path + pdb_file)\n",
    "\n",
    "\n",
    "# Select chains M and N\n",
    "chain_M = structure[0]['M']\n",
    "chain_N = structure[0]['N']\n",
    "\n",
    "# Extract CA atoms and their residue IDs for all residues in each chain\n",
    "ca_atoms_M = [(residue['CA'], f\"{residue.resname}_{residue.id[1]}\") \n",
    "              for residue in chain_M if 'CA' in residue]\n",
    "ca_atoms_N = [(residue['CA'], f\"{residue.resname}_{residue.id[1]}\") \n",
    "              for residue in chain_N if 'CA' in residue]\n",
    "\n",
    "# Initialize a distance matrix\n",
    "distance_matrix = np.zeros((len(ca_atoms_N), len(ca_atoms_M)))\n",
    "\n",
    "# Fill the matrix with distances and keep track of residue IDs\n",
    "for i, (atom_N, res_id_N) in enumerate(ca_atoms_N):\n",
    "    for j, (atom_M, res_id_M) in enumerate(ca_atoms_M):\n",
    "        distance_matrix[i, j] = calculate_distance(atom_N.coord, atom_M.coord)\n",
    "\n",
    "# Collect residue IDs for easy reference\n",
    "residues_M = [res_id_M for _, res_id_M in ca_atoms_M]\n",
    "residues_N = [res_id_N for _, res_id_N in ca_atoms_N]\n",
    "\n",
    "# Convert the distance matrix to a pandas DataFrame with residue IDs as row/column labels\n",
    "distance_df = pd.DataFrame(distance_matrix, index=residues_N, columns=residues_M)\n",
    "distance_df.head()"
   ]
  },
  {
   "cell_type": "markdown",
   "id": "worst-reservoir",
   "metadata": {},
   "source": [
    "### Get min distance from each nuclear residue to MT residues"
   ]
  },
  {
   "cell_type": "code",
   "execution_count": 100,
   "id": "outdoor-latitude",
   "metadata": {},
   "outputs": [],
   "source": [
    "min_values_info = []\n",
    "\n",
    "for row_id, row_data in distance_df.iterrows():\n",
    "    # Find the column (MT residue) with the minimum value in this row\n",
    "    min_col = row_data.idxmin()\n",
    "    min_value = row_data.min()\n",
    "    min_values_info.append((row_id, min_col, min_value))\n",
    "\n",
    "min_values_df = pd.DataFrame(min_values_info, columns=['N_Residue', 'Min_M_Residue', 'Min_Distance'])"
   ]
  },
  {
   "cell_type": "markdown",
   "id": "searching-cornell",
   "metadata": {},
   "source": [
    "### Assign ddN (delta dN (Vmac - Aimb)) to each nulear residue"
   ]
  },
  {
   "cell_type": "code",
   "execution_count": 101,
   "id": "changing-spectrum",
   "metadata": {},
   "outputs": [],
   "source": [
    "def extract_b_factors(structure, chain_id):\n",
    "    ### Function to extract the B-factors for the CA atoms in chain M\n",
    "    \n",
    "    chain = structure[0][chain_id]\n",
    "    \n",
    "    ### Extract B-factors for each residue in the chain (from CA atoms)\n",
    "    b_factors = {}\n",
    "    for residue in chain:\n",
    "        if 'CA' in residue:  # Use CA atoms to be consistent\n",
    "            res_id = f\"{residue.resname}_{residue.id[1]}\"\n",
    "            b_factors[res_id] = residue['CA'].get_bfactor()\n",
    "    return b_factors"
   ]
  },
  {
   "cell_type": "code",
   "execution_count": 102,
   "id": "remarkable-series",
   "metadata": {},
   "outputs": [],
   "source": [
    "# Extract B-factors for chain N (nuclear residues)\n",
    "b_factors_M = extract_b_factors(structure, 'N')\n",
    "min_values_df['ddN'] = min_values_df['N_Residue'].map(b_factors_M)\n",
    "\n",
    "min_values_df.head()"
   ]
  },
  {
   "cell_type": "markdown",
   "id": "rural-terry",
   "metadata": {},
   "source": [
    "### Is this AA unique in Aimb? Assign BEB (True or False in this case) values to each nuclear residue"
   ]
  },
  {
   "cell_type": "code",
   "execution_count": 107,
   "id": "informal-canyon",
   "metadata": {},
   "outputs": [],
   "source": [
    "pdb_file = 'renum.complex_I_anoImb_M_N_BEB.pdb'\n",
    "structure2 = get_pdb_structure(dir_path + pdb_file)\n",
    "\n",
    "# Extract B-factors for chain N (nuclear residues)\n",
    "b_factors_M = extract_b_factors(structure2, 'N')\n",
    "min_values_df['BEB'] = min_values_df['N_Residue'].map(b_factors_M)"
   ]
  },
  {
   "cell_type": "markdown",
   "id": "negative-princeton",
   "metadata": {},
   "source": [
    "### Write table with min distances, ddN, and BEB to a file"
   ]
  },
  {
   "cell_type": "code",
   "execution_count": 109,
   "id": "incorporate-planet",
   "metadata": {},
   "outputs": [],
   "source": [
    "min_values_df.to_csv('distances_complex_I_anoImb.tsv', sep='\\t', index=False)"
   ]
  },
  {
   "cell_type": "markdown",
   "id": "amino-number",
   "metadata": {},
   "source": [
    "### Any correlation between ddN and distance? Yes!"
   ]
  },
  {
   "cell_type": "code",
   "execution_count": 114,
   "id": "optional-offer",
   "metadata": {},
   "outputs": [
    {
     "data": {
      "image/png": "[encoded data removed]",
      "text/plain": [
       "<Figure size 720x360 with 1 Axes>"
      ]
     },
     "metadata": {
      "needs_background": "light"
     },
     "output_type": "display_data"
    }
   ],
   "source": [
    "fig, axes = plt.subplots(figsize=(10, 5))\n",
    "\n",
    "sns.scatterplot(data=min_values_df, x='Min_Distance', y='ddN', linewidth=0, s=6, alpha=0.5)\n",
    "# axes.set_xlabel('')\n",
    "\n",
    "sns.despine(fig=None, ax=None, left=False, bottom=False, offset=None, trim=False)\n",
    "fig.tight_layout()"
   ]
  },
  {
   "cell_type": "markdown",
   "id": "agreed-sitting",
   "metadata": {},
   "source": [
    "### Are sites unique in Aimb more likely to be closer to MT proteins? Yes!"
   ]
  },
  {
   "cell_type": "code",
   "execution_count": 135,
   "id": "deadly-entertainment",
   "metadata": {},
   "outputs": [
    {
     "name": "stderr",
     "output_type": "stream",
     "text": [
      "/Users/osipova/local/Homebrew/lib/python3.7/site-packages/ipykernel_launcher.py:6: SettingWithCopyWarning: \n",
      "A value is trying to be set on a copy of a slice from a DataFrame.\n",
      "Try using .loc[row_indexer,col_indexer] = value instead\n",
      "\n",
      "See the caveats in the documentation: https://pandas.pydata.org/pandas-docs/stable/user_guide/indexing.html#returning-a-view-versus-a-copy\n",
      "  \n"
     ]
    }
   ],
   "source": [
    "# Get Aimb unique sites and sample the same number of sites from the control (nonunique) sites\n",
    "beb = min_values_df[min_values_df['BEB'] != 0]\n",
    "notbeb = min_values_df[min_values_df['BEB'] == 0].sample(n=len(beb))\n",
    "\n",
    "# Label dataframes and concatenate\n",
    "beb['selection'] = ['beb']*len(beb)\n",
    "notbeb['selection'] = ['notbeb']*len(beb)\n",
    "beb_df = pd.concat([beb, notbeb])\n"
   ]
  },
  {
   "cell_type": "code",
   "execution_count": 152,
   "id": "funded-thing",
   "metadata": {},
   "outputs": [
    {
     "name": "stdout",
     "output_type": "stream",
     "text": [
      "p-value annotation legend:\n",
      "      ns: 5.00e-02 < p <= 1.00e+00\n",
      "       *: 1.00e-02 < p <= 5.00e-02\n",
      "      **: 1.00e-03 < p <= 1.00e-02\n",
      "     ***: 1.00e-04 < p <= 1.00e-03\n",
      "    ****: p <= 1.00e-04\n",
      "\n",
      "beb vs. notbeb: Mann-Whitney-Wilcoxon test two-sided, P_val:2.744e-05 U_stat=6.213e+03\n"
     ]
    },
    {
     "data": {
      "image/png": "[encoded data removed]",
      "text/plain": [
       "<Figure size 288x504 with 1 Axes>"
      ]
     },
     "metadata": {
      "needs_background": "light"
     },
     "output_type": "display_data"
    }
   ],
   "source": [
    "# Plot comparison unique sites vs control\n",
    "fig, axes = plt.subplots(figsize=(4, 7))\n",
    "\n",
    "sns.boxplot(data=beb_df, y='Min_Distance', x='selection', showfliers=False, boxprops=dict(alpha=0.5))\n",
    "sns.stripplot(data=beb_df, y='Min_Distance', x='selection', linewidth=0.5)\n",
    "axes.set_xlabel('')\n",
    "\n",
    "pairs = [('beb', 'notbeb')]\n",
    "annotator = Annotator(axes, pairs, data=beb_df, x='selection', y='Min_Distance')\n",
    "annotator.configure(test='Mann-Whitney', text_format='star')\n",
    "annotator.apply_and_annotate()\n",
    "\n",
    "sns.despine(fig=None, ax=None, left=False, bottom=False, offset=None, trim=False)\n",
    "fig.tight_layout()"
   ]
  },
  {
   "cell_type": "code",
   "execution_count": null,
   "id": "wound-shoot",
   "metadata": {},
   "outputs": [],
   "source": []
  }
 ],
 "metadata": {
  "kernelspec": {
   "display_name": "Python 3",
   "language": "python",
   "name": "python3"
  },
  "language_info": {
   "codemirror_mode": {
    "name": "ipython",
    "version": 3
   },
   "file_extension": ".py",
   "mimetype": "text/x-python",
   "name": "python",
   "nbconvert_exporter": "python",
   "pygments_lexer": "ipython3",
   "version": "3.7.5"
  }
 },
 "nbformat": 4,
 "nbformat_minor": 5
}
