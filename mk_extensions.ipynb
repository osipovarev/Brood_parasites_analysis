{
 "cells": [
  {
   "cell_type": "code",
   "execution_count": null,
   "id": "solved-attempt",
   "metadata": {},
   "outputs": [],
   "source": [
    "!pip3 install pysam"
   ]
  },
  {
   "cell_type": "code",
   "execution_count": 102,
   "id": "embedded-namibia",
   "metadata": {},
   "outputs": [],
   "source": [
    "import pysam\n",
    "%matplotlib inline\n",
    "import numpy as np\n",
    "from glob import glob\n",
    "import pandas as pd\n",
    "from matplotlib import pyplot as plt\n",
    "import seaborn as sns\n",
    "import matplotlib\n",
    "import statsmodels.stats.multitest as smt\n",
    "matplotlib.rcParams['pdf.fonttype'] = 42\n",
    "matplotlib.rcParams['ps.fonttype'] = 42\n",
    "from scipy import stats\n",
    "from sklearn.linear_model import LinearRegression\n",
    "from scipy.optimize import curve_fit"
   ]
  },
  {
   "cell_type": "code",
   "execution_count": 202,
   "id": "infrared-ebony",
   "metadata": {},
   "outputs": [
    {
     "data": {
      "image/png": "[encoded data removed]",
      "text/plain": [
       "<Figure size 432x288 with 1 Axes>"
      ]
     },
     "metadata": {
      "needs_background": "light"
     },
     "output_type": "display_data"
    }
   ],
   "source": [
    "## Check sample data from Haller & Messer 2017 (https://github.com/MesserLab/asymptoticMK/tree/master)\n",
    "dir_path = '/Users/osipova/Documents/LabDocs/Brood_parasites_analysis/Extensions_MKT/'\n",
    "file_name = 'sample_polymorphism_levels.tsv'\n",
    "file_data = glob(dir_path + file_name)[0]\n",
    "df = pd.read_csv(file_data, sep='\\t') \n",
    "d = 500\n",
    "d0 = 1000\n",
    "df['alpha'] = 1 - d0 / d * df['pN'] / df['pS']\n",
    "\n",
    "# sns.scatterplot(data=df, x='x', y='pN', linewidth=0)\n",
    "# sns.scatterplot(data=df, x='x', y='pS', linewidth=0)\n",
    "sns.scatterplot(data=df, x='x', y='alpha', linewidth=0)\n",
    "plt.xlim(0, 1)\n",
    "plt.ylim(0, 1)\n",
    "plt.xlabel('frequency')\n",
    "plt.ylabel('alpha')\n",
    "sns.despine(fig=None, ax=None, left=False, bottom=False, offset=None, trim=False)\n"
   ]
  },
  {
   "cell_type": "code",
   "execution_count": 143,
   "id": "industrial-giving",
   "metadata": {},
   "outputs": [
    {
     "name": "stdout",
     "output_type": "stream",
     "text": [
      "[31  9 12  5  1]\n",
      "[0.016  0.1516 0.2872 0.4228 0.5584 0.694 ]\n",
      "[66 22 11 23 11]\n",
      "[0.016  0.1096 0.2032 0.2968 0.3904 0.484 ]\n"
     ]
    },
    {
     "data": {
      "image/png": "[encoded data removed]",
      "text/plain": [
       "<Figure size 432x288 with 1 Axes>"
      ]
     },
     "metadata": {
      "needs_background": "light"
     },
     "output_type": "display_data"
    }
   ],
   "source": [
    "pN = '0.017,0.048,0.016,0.016,0.016,0.435,0.113,0.032,0.403,0.016,0.5,0.645,0.016,0.016,0.032,0.016,0.065,0.081,0.016,0.435,0.048,0.097,0.355,0.016,0.613,0.613,0.017,0.016,0.016,0.032'\n",
    "pS = '0.177,0.016,0.081,0.145,0.145,0.016,0.968,0.016,0.032,0.016,0.065,0.016,0.016,0.129,0.016,0.081,0.016,0.081,0.016,0.161'\n",
    "\n",
    "pN = '0.016,0.016,0.371,0.032,0.129,0.016,0.113,0.183,0.354,0.032,0.032,0.339,0.323,0.355,0.367,0.383,0.35,0.31,0.31,0.259,0.233,0.468,0.484,0.484,0.484,0.016,0.048,0.29,0.419,0.435,0.13,0.121,0.016,0.065,0.065,0.065,0.065,0.065,0.016,0.016,0.016,0.016,0.258,0.194,0.016,0.033,0.033,0.097,0.113,0.032,0.097,0.1,0.19,0.19,0.19,0.167,0.016,0.694'\n",
    "pS = '0.452,0.452,0.452,0.145,0.129,0.113,0.129,0.145,0.145,0.032,0.016,0.016,0.048,0.065,0.097,0.177,0.183,0.2,0.194,0.048,0.333,0.333,0.259,0.21,0.35,0.339,0.339,0.355,0.355,0.35,0.35,0.35,0.069,0.283,0.484,0.484,0.468,0.468,0.032,0.452,0.355,0.355,0.355,0.355,0.355,0.129,0.35,0.323,0.226,0.032,0.032,0.032,0.048,0.048,0.29,0.29,0.403,0.435,0.435,0.107,0.103,0.083,0.083,0.083,0.033,0.065,0.065,0.065,0.065,0.065,0.032,0.032,0.032,0.016,0.016,0.016,0.226,0.306,0.306,0.306,0.048,0.21,0.258,0.258,0.258,0.194,0.161,0.161,0.05,0.033,0.033,0.033,0.097,0.097,0.097,0.339,0.339,0.339,0.016,0.032,0.032,0.032,0.032,0.032,0.032,0.048,0.097,0.097,0.097,0.097,0.097,0.097,0.097,0.097,0.103,0.1,0.083,0.05,0.034,0.034,0.19,0.19,0.19,0.19,0.167,0.167,0.167,0.15,0.032,0.016,0.016,0.016,0.016'\n",
    "\n",
    "pN_list = [float(i) for i in pN.split(',')]\n",
    "pS_list = [float(i) for i in pS.split(',')]\n",
    "\n",
    "# W = 1 / len(l) * 5\n",
    "hist_pN, bin_edges_pN = np.histogram(pN_list, bins=5)\n",
    "hist_pS, bin_edges_pS = np.histogram(pS_list, bins=5)\n",
    "print(hist_pN)\n",
    "print(bin_edges_pN)\n",
    "print(hist_pS)\n",
    "print(bin_edges_pS)\n",
    "\n",
    "sns.histplot(pN_list, binwidth=0.1, color='red', alpha=0.5)\n",
    "sns.histplot(pS_list, binwidth=0.1, color='blue', alpha=0.5)\n",
    "sns.despine(fig=None, ax=None, left=False, bottom=False, offset=None, trim=False)"
   ]
  },
  {
   "cell_type": "code",
   "execution_count": null,
   "id": "meaning-hepatitis",
   "metadata": {},
   "outputs": [],
   "source": []
  },
  {
   "cell_type": "code",
   "execution_count": 23,
   "id": "weighted-works",
   "metadata": {},
   "outputs": [],
   "source": [
    "def split_into_bins(l, bins):\n",
    "    \n",
    "    ## Takes a list and puts it into bins\n",
    "    data = np.array(l)\n",
    "    digitized = np.digitize(data, bins)\n",
    "    bin_counts = [digitized.tolist().count(i) for i in range(1, len(bins))]\n",
    "    return bin_counts"
   ]
  },
  {
   "cell_type": "code",
   "execution_count": 44,
   "id": "accompanied-mambo",
   "metadata": {},
   "outputs": [],
   "source": [
    "def make_sfs(pN_list, pS_list, min_x=0.03, max_x=0.9, nbin=8):\n",
    "    \n",
    "    ## Takes two lists of pN and pS and converts them to a SFS dict:\n",
    "    ## frequency: (pN count, pS count)\n",
    "    bins = np.linspace(min_x, max_x, nbin)\n",
    "    pN_bins = split_into_bins(pN_list, bins)\n",
    "    pS_bins = split_into_bins(pS_list, bins)\n",
    "\n",
    "    freq_dict = {}\n",
    "    i = 0\n",
    "    # represent each frequency with its upper bound\n",
    "    for freq in bins[1:]:\n",
    "        if (pS_bins[i] != 0) and (pN_bins[i] != 0):\n",
    "            freq_dict[round(freq, 3)] = (pN_bins[i], pS_bins[i])\n",
    "        i += 1\n",
    "    return freq_dict"
   ]
  },
  {
   "cell_type": "code",
   "execution_count": 45,
   "id": "vertical-cooking",
   "metadata": {},
   "outputs": [],
   "source": [
    "def claculate_alpha_x(d, d0, freq_dict):\n",
    "\n",
    "    ## Calcualtes alpha based on dN,dS and SFS of pN/pS from freq_dict\n",
    "    f = list(freq_dict.keys())\n",
    "    p = [freq_dict[f][0] for f in freq_dict]\n",
    "    p0 = [freq_dict[f][1] for f in freq_dict]\n",
    "    \n",
    "    alpha = []\n",
    "    for x in freq_dict:\n",
    "        p_x = freq_dict[x][0]\n",
    "        p0_x = freq_dict[x][1]\n",
    "        alpha_x = 1 - d0 / d * p_x / p0_x\n",
    "        alpha.append(alpha_x)\n",
    "    return alpha"
   ]
  },
  {
   "cell_type": "code",
   "execution_count": 41,
   "id": "mathematical-regulation",
   "metadata": {},
   "outputs": [],
   "source": [
    "def linear_fit_alpha(alpha, freq_dict):\n",
    "\n",
    "    ## Fits linear model: alpha = f(frequency) => computes asymtotic alpha -> (x=1)\n",
    "    f = list(freq_dict.keys())\n",
    "    model = LinearRegression().fit(np.array(f).reshape(-1, 1), np.array(alpha))\n",
    "    # R^2\n",
    "    rr = model.score(np.array(f).reshape(-1, 1), np.array(alpha))\n",
    "    # k - slope, b - intercept\n",
    "    k, b = float(model.coef_), float(model.intercept_)\n",
    "    \n",
    "    # plot data and the fit\n",
    "#     plt.scatter(f, alpha)\n",
    "#     plt.plot(f, [x * k + b for x in f], '--', color='red')\n",
    "#     plt.xlim(0, 1)\n",
    "#     plt.ylim(-1, 1)\n",
    "#     plt.xlabel('allele frequency')\n",
    "#     plt.ylabel('alpha')\n",
    "#     sns.despine(fig=None, ax=None, left=False, bottom=False, offset=None, trim=False)\n",
    "\n",
    "    # extrapolate to x = 1\n",
    "    asympt_alpha = 1 * k + b\n",
    "    return asympt_alpha"
   ]
  },
  {
   "cell_type": "code",
   "execution_count": null,
   "id": "dirty-romania",
   "metadata": {},
   "outputs": [],
   "source": []
  },
  {
   "cell_type": "code",
   "execution_count": 160,
   "id": "interesting-bleeding",
   "metadata": {},
   "outputs": [
    {
     "name": "stderr",
     "output_type": "stream",
     "text": [
      "/Users/osipova/local/Homebrew/lib/python3.7/site-packages/ipykernel_launcher.py:2: RuntimeWarning: invalid value encountered in log\n",
      "  \n"
     ]
    },
    {
     "data": {
      "text/plain": [
       "[<matplotlib.lines.Line2D at 0x14875ba50>]"
      ]
     },
     "execution_count": 160,
     "metadata": {},
     "output_type": "execute_result"
    },
    {
     "data": {
      "image/png": "[encoded data removed]",
      "text/plain": [
       "<Figure size 432x288 with 1 Axes>"
      ]
     },
     "metadata": {
      "needs_background": "light"
     },
     "output_type": "display_data"
    }
   ],
   "source": [
    "## alpha exponential fit\n",
    "ln_alpha = np.log(alpha)\n",
    "freqs = list(freq_dict.keys())\n",
    "\n",
    "# list(freq_dict.keys())\n",
    "model1 = np.polyfit(freqs, alpha, 1)\n",
    "a1, b1 = model1[0], model1[1]\n",
    "\n",
    "model2 = np.polyfit(freqs, ln_alpha, 1)\n",
    "a2, b2 = model2[0], model2[1]\n",
    "\n",
    "\n",
    "plt.scatter(freqs, alpha)\n",
    "plt.plot(freqs + [1], a1*np.array(freqs + [1]) + b1)\n",
    "plt.plot(freqs + [1], np.exp(b2) * np.exp(a2*np.array(freqs + [1])))"
   ]
  },
  {
   "cell_type": "code",
   "execution_count": 251,
   "id": "varying-morrison",
   "metadata": {},
   "outputs": [],
   "source": [
    "def exponential_fit(x, a, b, c):\n",
    "    return a * np.exp(b * x) + c\n",
    "\n",
    "def linear_fit(x, a, b):\n",
    "    return a * x + b"
   ]
  },
  {
   "cell_type": "code",
   "execution_count": 254,
   "id": "grand-verification",
   "metadata": {},
   "outputs": [],
   "source": [
    "# Haller & Messer 2017:  αfit(x) = -0.6*exp(−3.8x) + 0.6\n",
    "x = df['x']\n",
    "y = df['alpha']\n",
    "# x = freqs\n",
    "# y = alpha\n"
   ]
  },
  {
   "cell_type": "code",
   "execution_count": 263,
   "id": "offshore-photography",
   "metadata": {},
   "outputs": [
    {
     "name": "stdout",
     "output_type": "stream",
     "text": [
      "R^2 exp: 0.8456119388000611; R^2 linear: 0.6592215733747169\n"
     ]
    },
    {
     "data": {
      "image/png": "[encoded data removed]",
      "text/plain": [
       "<Figure size 432x288 with 1 Axes>"
      ]
     },
     "metadata": {
      "needs_background": "light"
     },
     "output_type": "display_data"
    }
   ],
   "source": [
    "popt_exp, pcov_exp = curve_fit(exponential_fit, x, y, p0=[-1,-1,1], maxfev=5000)\n",
    "y_exp_fit = exponential_fit(np.array(x), *popt_exp)\n",
    "\n",
    "popt_lin, pcov_lin = curve_fit(linear_fit, x, y)\n",
    "y_lin_fit = linear_fit(np.array(x), *popt_lin)\n",
    "\n",
    "fig, axes = plt.subplots(figsize=(6, 4))\n",
    "plt.scatter(x, y)\n",
    "plt.plot(x, y_exp_fit, '--', linewidth=2, color='red')\n",
    "# plt.plot(x, y_lin_fit)\n",
    "plt.xlim(0, 1)\n",
    "plt.ylim(0, 1)\n",
    "plt.xlabel('frequency')\n",
    "plt.ylabel('alpha')\n",
    "sns.despine(fig=None, ax=None, left=False, bottom=False, offset=None, trim=False)\n",
    "\n",
    "# Calculate R-squared\n",
    "ss_total = np.sum((y - np.mean(y)) ** 2)\n",
    "ss_residual_exp = np.sum((y - exponential_fit(np.array(x), *popt_exp)) ** 2)\n",
    "ss_residual_lin = np.sum((y - linear_fit(np.array(x), *popt_lin)) ** 2)\n",
    "rr_exp = 1 - (ss_residual_exp / ss_total)\n",
    "rr_lin = 1 - (ss_residual_lin / ss_total)\n",
    "\n",
    "print(\"R^2 exp: {}; R^2 linear: {}\".format(rr_exp, rr_lin))\n"
   ]
  },
  {
   "cell_type": "code",
   "execution_count": null,
   "id": "promising-routine",
   "metadata": {},
   "outputs": [],
   "source": []
  },
  {
   "cell_type": "code",
   "execution_count": null,
   "id": "promising-reader",
   "metadata": {},
   "outputs": [],
   "source": []
  },
  {
   "cell_type": "code",
   "execution_count": null,
   "id": "apart-welcome",
   "metadata": {},
   "outputs": [],
   "source": []
  },
  {
   "cell_type": "code",
   "execution_count": 265,
   "id": "colored-jefferson",
   "metadata": {},
   "outputs": [],
   "source": [
    "## Test get_af_from_vcf.py - exclude later!\n",
    "dir_path = '/Users/osipova/Documents/LabDocs/Brood_parasites_analysis/Extensions_MKT/'\n",
    "vcf_name = 'snpEff.polarized.passed.indInd.picPub.vcf.gz'\n",
    "vcf_data = pysam.VariantFile(dir_path + vcf_name)\n",
    "\n",
    "bed_line = 'CM051081 167553 167829'\n",
    "contig = bed_line.split()[0]\n",
    "start = int(bed_line.split()[1])\n",
    "end = int(bed_line.split()[2])\n",
    "\n",
    "AF_nonsyn = []\n",
    "AF_syn = []\n",
    "for i in vcf_data.fetch(contig, start, end):\n",
    "    POS = i.pos\n",
    "    REF = i.ref\n",
    "    ALT = i.alts[0]\n",
    "    AC = i.info['AC'][0]\n",
    "    AN = i.info['AN']\n",
    "    AA = i.info['AA']\n",
    "    \n",
    "    if AA != REF:\n",
    "        # check if snp wasn't introduced with the outgroup\n",
    "        if (AA == ALT) and (AC != 2):\n",
    "            # flip AC\n",
    "            AC = AN - AC\n",
    "        # exlude if it is new or 3-way to resolve\n",
    "        else:\n",
    "            AC = 0\n",
    "    # remove outgroup from AN\n",
    "    AN = AN - 2\n",
    "    AF = AC / AN\n",
    "    \n",
    "    if (AF != 0) and (AF != 1):\n",
    "        if 'missense_variant' in i.info['ANN'][0]:\n",
    "            AF_nonsyn.append(AF)\n",
    "        elif 'synonymous_variant' in i.info['ANN'][0]:\n",
    "            AF_syn.append(AF)\n",
    "  "
   ]
  },
  {
   "cell_type": "code",
   "execution_count": null,
   "id": "fiscal-prime",
   "metadata": {},
   "outputs": [],
   "source": []
  },
  {
   "cell_type": "code",
   "execution_count": 266,
   "id": "common-mason",
   "metadata": {},
   "outputs": [],
   "source": [
    "## Read your data per gene with syn/nonsyn AF\n",
    "# dir_path = '/Users/osipova/Documents/LabDocs/Brood_parasites_analysis/'\n",
    "file_name = 'MK_test_indInd_ncbi/af.gene.longest.mk.tsv'\n",
    "# file_data = glob(dir_path + file_name)[0]\n",
    "# df = pd.read_csv(file_data, sep='\\t')\n",
    "\n",
    "## Read Degenotate table line by line and store in dict\n",
    "mk_dict = {}\n",
    "with open(file_name, 'r') as inf:\n",
    "    for line in inf.readlines():\n",
    "        # exclude header and lines with empty AF fields  \n",
    "        if (not line.startswith('gene')) and (len(line.split()) == 11):\n",
    "            gene = line.split()[0]\n",
    "            mk_dict[gene] = {}\n",
    "            mk_dict[gene]['t'] = line.split()[1]\n",
    "            mk_dict[gene]['af_nonsyn'] = line.split()[2]\n",
    "            mk_dict[gene]['af_syn'] = line.split()[3]\n",
    "            mk_dict[gene]['dN'] = float(line.split()[6])\n",
    "            mk_dict[gene]['dS'] = float(line.split()[7])\n",
    "            mk_dict[gene]['pval'] = float(line.split()[8])\n",
    "            ni = line.split()[9]\n",
    "            if ni == 'NaN':\n",
    "                    mk_dict[gene]['standard_alpha'] = ni\n",
    "            else:\n",
    "                mk_dict[gene]['standard_alpha'] = 1 - float(ni)\n",
    "#             mk_dict[gene] = (t, af_nonsyn, af_syn, dN, dS, pval, standard_alpha)"
   ]
  },
  {
   "cell_type": "code",
   "execution_count": 282,
   "id": "dressed-produce",
   "metadata": {},
   "outputs": [
    {
     "name": "stdout",
     "output_type": "stream",
     "text": [
      "383\n"
     ]
    },
    {
     "data": {
      "image/png": "[encoded data removed]",
      "text/plain": [
       "<Figure size 504x360 with 1 Axes>"
      ]
     },
     "metadata": {
      "needs_background": "light"
     },
     "output_type": "display_data"
    }
   ],
   "source": [
    "i = 0\n",
    "delta_list = []\n",
    "\n",
    "with open('aMKT.alpha.tsv', 'w') as ouf:\n",
    "    for g in mk_dict:\n",
    "        d = mk_dict[g]['dN']\n",
    "        d0 = mk_dict[g]['dS']\n",
    "        pN_list = [float(i) for i in mk_dict[g]['af_nonsyn'].split(',')]\n",
    "        pS_list = [float(i) for i in mk_dict[g]['af_syn'].split(',')]\n",
    "        standard_alpha = mk_dict[g]['standard_alpha']\n",
    "\n",
    "        if (d > 0) and (standard_alpha != 'NaN'):\n",
    "            freq_dict = make_sfs(pN_list, pS_list)\n",
    "            alpha = claculate_alpha_x(d, d0, freq_dict)\n",
    "            if len(alpha) > 1:\n",
    "                asympt_alpha = linear_fit_alpha(alpha, freq_dict)\n",
    "                ouf.write('{}\\t{}\\t{}\\n'.format(g, asympt_alpha, 'asympt'))\n",
    "        #       print('standard alpha: {}; asymptotic alpha: {}'.format(standard_alpha, asympt_alpha))\n",
    "                delta_list.append(asympt_alpha - standard_alpha)\n",
    "                i += 1\n",
    "            else:\n",
    "                asympt_alpha = standard_alpha\n",
    "#                 ouf.write('{}\\t{}\\t{}\\n'.format(g, asympt_alpha, 'standard'))\n",
    "       #        print('standard alpha: {}; asymptotic alpha: {}'.format(standard_alpha, asympt_alpha))\n",
    "        \n",
    "print(i)\n",
    "\n",
    "fig, axes = plt.subplots(figsize=(7, 5))\n",
    "sns.histplot(delta_list, binwidth=3)\n",
    "axes.axvline(x=0, color='red')\n",
    "axes.set_xlim(-40, 40)\n",
    "\n",
    "plt.xlabel('alpha(aMK) - alpha(MK)')\n",
    "sns.despine(fig=None, ax=None, left=False, bottom=False, offset=None, trim=False)"
   ]
  },
  {
   "cell_type": "code",
   "execution_count": 281,
   "id": "blessed-effect",
   "metadata": {},
   "outputs": [
    {
     "data": {
      "text/plain": [
       "11088"
      ]
     },
     "execution_count": 281,
     "metadata": {},
     "output_type": "execute_result"
    }
   ],
   "source": [
    "len(mk_dict)\n"
   ]
  },
  {
   "cell_type": "code",
   "execution_count": 247,
   "id": "concerned-league",
   "metadata": {},
   "outputs": [
    {
     "data": {
      "image/png": "[encoded data removed]",
      "text/plain": [
       "<Figure size 360x288 with 1 Axes>"
      ]
     },
     "metadata": {
      "needs_background": "light"
     },
     "output_type": "display_data"
    }
   ],
   "source": [
    "df_g = pd.DataFrame(zip(list(freq_dict.keys()) * 2,\n",
    "                        [i[1] for i in freq_dict.values()] + [i[0] for i in freq_dict.values()],\n",
    "                        ['pS']*len(freq_dict) + ['pN']*len(freq_dict)),\n",
    "                    columns = ['freq', 'count', 'class'])\n",
    "\n",
    "fig, axes = plt.subplots(figsize=(5, 4))\n",
    "sns.barplot(data=df_g, x='freq', y='count', hue='class')\n",
    "plt.xlabel('frequency')\n",
    "sns.despine(fig=None, ax=None, left=False, bottom=False, offset=None, trim=False)\n"
   ]
  },
  {
   "cell_type": "code",
   "execution_count": 306,
   "id": "eleven-albert",
   "metadata": {},
   "outputs": [
    {
     "name": "stderr",
     "output_type": "stream",
     "text": [
      "/Users/osipova/local/Homebrew/lib/python3.7/site-packages/pandas/core/series.py:679: RuntimeWarning: divide by zero encountered in log10\n",
      "  result = getattr(ufunc, method)(*inputs, **kwargs)\n",
      "/Users/osipova/local/Homebrew/lib/python3.7/site-packages/pandas/core/series.py:679: RuntimeWarning: invalid value encountered in log10\n",
      "  result = getattr(ufunc, method)(*inputs, **kwargs)\n"
     ]
    },
    {
     "data": {
      "image/png": "[encoded data removed]",
      "text/plain": [
       "<Figure size 360x360 with 1 Axes>"
      ]
     },
     "metadata": {
      "needs_background": "light"
     },
     "output_type": "display_data"
    }
   ],
   "source": [
    "db = 'indInd'\n",
    "dir_path = '/Users/osipova/Documents/LabDocs/Brood_parasites_analysis/'\n",
    "file_name = 'MK_test_{}_ncbi/only_changed.aMK.gene.longest.mk.tsv'.format(db)\n",
    "file_data = glob(dir_path + file_name)[0]\n",
    "df = pd.read_csv(file_data, sep='\\t')\n",
    "\n",
    "## Adjust NI\n",
    "df['ni'] = 1 - df['alpha']\n",
    "min_ni = df[df['ni'] != float('-inf')]['ni'].min()\n",
    "max_ni = df[df['ni'] != float('inf')]['ni'].max()\n",
    "df['corrni'] = [min_ni/4 if i==float('-inf') else max_ni*4 if i==float('inf') else i for i in df['ni']]\n",
    "df['logpval'] = -np.log10(df['pvalue'])\n",
    "df['logni'] = -np.log10(df['corrni'])\n",
    "\n",
    "p = sns.color_palette('Paired')\n",
    "pal = p[1], p[5]\n",
    "\n",
    "fig, axes = plt.subplots(figsize=(5, 5))\n",
    "sns.scatterplot(data=df, x='logni', y='logpval', linewidth=0, s=15, hue='method', palette=pal, alpha=0.7)\n",
    "axes.axvline(0, color='k', alpha=0.5, ls='--')\n",
    "axes.set_xlabel('-log NI')\n",
    "axes.set_ylabel('-log p-value')\n",
    "axes.set_xlim(-3, 3)\n",
    "sns.despine(fig=None, ax=None, left=False, bottom=False, offset=None, trim=False)\n",
    "\n",
    "pdf_name = 'aMK_vs_MK.ni.pval_volcanos.{}.pdf'.format(db)\n",
    "\n",
    "# fig.savefig(pdf_name, bbox_inches='tight')"
   ]
  },
  {
   "cell_type": "code",
   "execution_count": 303,
   "id": "residential-providence",
   "metadata": {},
   "outputs": [],
   "source": []
  },
  {
   "cell_type": "code",
   "execution_count": null,
   "id": "selective-novel",
   "metadata": {},
   "outputs": [],
   "source": []
  }
 ],
 "metadata": {
  "kernelspec": {
   "display_name": "Python 3",
   "language": "python",
   "name": "python3"
  },
  "language_info": {
   "codemirror_mode": {
    "name": "ipython",
    "version": 3
   },
   "file_extension": ".py",
   "mimetype": "text/x-python",
   "name": "python",
   "nbconvert_exporter": "python",
   "pygments_lexer": "ipython3",
   "version": "3.7.5"
  }
 },
 "nbformat": 4,
 "nbformat_minor": 5
}
