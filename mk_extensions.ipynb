{
 "cells": [
  {
   "cell_type": "code",
   "execution_count": 111,
   "id": "legendary-dublin",
   "metadata": {},
   "outputs": [],
   "source": [
    "%matplotlib inline\n",
    "import numpy as np\n",
    "from glob import glob\n",
    "import pandas as pd\n",
    "from matplotlib import pyplot as plt\n",
    "import seaborn as sns\n",
    "import matplotlib\n",
    "import statsmodels.stats.multitest as smt\n",
    "matplotlib.rcParams['pdf.fonttype'] = 42\n",
    "matplotlib.rcParams['ps.fonttype'] = 42\n",
    "from scipy import stats\n",
    "from sklearn.linear_model import LinearRegression"
   ]
  },
  {
   "cell_type": "code",
   "execution_count": 9,
   "id": "reverse-variation",
   "metadata": {},
   "outputs": [
    {
     "data": {
      "image/png": "[encoded data removed]",
      "text/plain": [
       "<Figure size 432x288 with 1 Axes>"
      ]
     },
     "metadata": {
      "needs_background": "light"
     },
     "output_type": "display_data"
    }
   ],
   "source": [
    "## Check sample data from Haller & Messer 2017 (https://github.com/MesserLab/asymptoticMK/tree/master)\n",
    "dir_path = '/Users/osipova/Documents/LabDocs/Brood_parasites_analysis/Extensions_MKT/'\n",
    "file_name = 'sample_polymorphism_levels.tsv'\n",
    "file_data = glob(dir_path + file_name)[0]\n",
    "df = pd.read_csv(file_data, sep='\\t') \n",
    "df['ratio'] = df['pN'] / df['pS']\n",
    "\n",
    "# sns.scatterplot(data=df, x='x', y='pN', linewidth=0)\n",
    "# sns.scatterplot(data=df, x='x', y='pS', linewidth=0)\n",
    "sns.scatterplot(data=df, x='x', y='ratio', linewidth=0)\n",
    "sns.despine(fig=None, ax=None, left=False, bottom=False, offset=None, trim=False)\n"
   ]
  },
  {
   "cell_type": "code",
   "execution_count": 143,
   "id": "extensive-extra",
   "metadata": {},
   "outputs": [
    {
     "name": "stdout",
     "output_type": "stream",
     "text": [
      "[31  9 12  5  1]\n",
      "[0.016  0.1516 0.2872 0.4228 0.5584 0.694 ]\n",
      "[66 22 11 23 11]\n",
      "[0.016  0.1096 0.2032 0.2968 0.3904 0.484 ]\n"
     ]
    },
    {
     "data": {
      "image/png": "[encoded data removed]",
      "text/plain": [
       "<Figure size 432x288 with 1 Axes>"
      ]
     },
     "metadata": {
      "needs_background": "light"
     },
     "output_type": "display_data"
    }
   ],
   "source": [
    "pN = '0.017,0.048,0.016,0.016,0.016,0.435,0.113,0.032,0.403,0.016,0.5,0.645,0.016,0.016,0.032,0.016,0.065,0.081,0.016,0.435,0.048,0.097,0.355,0.016,0.613,0.613,0.017,0.016,0.016,0.032'\n",
    "pS = '0.177,0.016,0.081,0.145,0.145,0.016,0.968,0.016,0.032,0.016,0.065,0.016,0.016,0.129,0.016,0.081,0.016,0.081,0.016,0.161'\n",
    "\n",
    "pN = '0.016,0.016,0.371,0.032,0.129,0.016,0.113,0.183,0.354,0.032,0.032,0.339,0.323,0.355,0.367,0.383,0.35,0.31,0.31,0.259,0.233,0.468,0.484,0.484,0.484,0.016,0.048,0.29,0.419,0.435,0.13,0.121,0.016,0.065,0.065,0.065,0.065,0.065,0.016,0.016,0.016,0.016,0.258,0.194,0.016,0.033,0.033,0.097,0.113,0.032,0.097,0.1,0.19,0.19,0.19,0.167,0.016,0.694'\n",
    "pS = '0.452,0.452,0.452,0.145,0.129,0.113,0.129,0.145,0.145,0.032,0.016,0.016,0.048,0.065,0.097,0.177,0.183,0.2,0.194,0.048,0.333,0.333,0.259,0.21,0.35,0.339,0.339,0.355,0.355,0.35,0.35,0.35,0.069,0.283,0.484,0.484,0.468,0.468,0.032,0.452,0.355,0.355,0.355,0.355,0.355,0.129,0.35,0.323,0.226,0.032,0.032,0.032,0.048,0.048,0.29,0.29,0.403,0.435,0.435,0.107,0.103,0.083,0.083,0.083,0.033,0.065,0.065,0.065,0.065,0.065,0.032,0.032,0.032,0.016,0.016,0.016,0.226,0.306,0.306,0.306,0.048,0.21,0.258,0.258,0.258,0.194,0.161,0.161,0.05,0.033,0.033,0.033,0.097,0.097,0.097,0.339,0.339,0.339,0.016,0.032,0.032,0.032,0.032,0.032,0.032,0.048,0.097,0.097,0.097,0.097,0.097,0.097,0.097,0.097,0.103,0.1,0.083,0.05,0.034,0.034,0.19,0.19,0.19,0.19,0.167,0.167,0.167,0.15,0.032,0.016,0.016,0.016,0.016'\n",
    "\n",
    "pN_list = [float(i) for i in pN.split(',')]\n",
    "pS_list = [float(i) for i in pS.split(',')]\n",
    "\n",
    "# W = 1 / len(l) * 5\n",
    "hist_pN, bin_edges_pN = np.histogram(pN_list, bins=5)\n",
    "hist_pS, bin_edges_pS = np.histogram(pS_list, bins=5)\n",
    "print(hist_pN)\n",
    "print(bin_edges_pN)\n",
    "print(hist_pS)\n",
    "print(bin_edges_pS)\n",
    "\n",
    "sns.histplot(pN_list, binwidth=0.1, color='red', alpha=0.5)\n",
    "sns.histplot(pS_list, binwidth=0.1, color='blue', alpha=0.5)\n",
    "sns.despine(fig=None, ax=None, left=False, bottom=False, offset=None, trim=False)"
   ]
  },
  {
   "cell_type": "code",
   "execution_count": null,
   "id": "sealed-sympathy",
   "metadata": {},
   "outputs": [],
   "source": []
  },
  {
   "cell_type": "code",
   "execution_count": 243,
   "id": "vital-capitol",
   "metadata": {},
   "outputs": [],
   "source": [
    "def split_into_bins(l, min_x=0, max_x=0.9, nbin=8):\n",
    "    \n",
    "    ## Takes a list and puts it into bins\n",
    "    data = np.array(l)\n",
    "    bins = np.linspace(min_x, max_x, nbin)\n",
    "    digitized = np.digitize(data, bins)\n",
    "    bin_counts = [digitized.tolist().count(i) for i in range(1, len(bins))]\n",
    "    return bin_counts"
   ]
  },
  {
   "cell_type": "code",
   "execution_count": 244,
   "id": "right-czech",
   "metadata": {},
   "outputs": [],
   "source": [
    "def make_sfs(pN_list, pS_list):\n",
    "    \n",
    "    ## Takes two lists of pN and pS and converts them to a SFS dict:\n",
    "    ## frequency: (pN count, pS count)\n",
    "    pN_bins = split_into_bins(pN_list)\n",
    "    pS_bins = split_into_bins(pS_list)\n",
    "\n",
    "    freq_dict = {}\n",
    "    i = 0\n",
    "    for freq in bins:\n",
    "        if (pS_bins[i] != 0) and (pN_bins[i] != 0):\n",
    "            freq_dict[freq] = (pN_bins[i], pS_bins[i])\n",
    "        i += 1\n",
    "    return freq_dict"
   ]
  },
  {
   "cell_type": "code",
   "execution_count": 247,
   "id": "major-bouquet",
   "metadata": {},
   "outputs": [],
   "source": [
    "def claculate_alpha_x(d, d0, freq_dict):\n",
    "\n",
    "    ## Calcualtes alpha based on dN,dS and SFS of pN/pS from freq_dict\n",
    "    f = list(freq_dict.keys())\n",
    "    p = [freq_dict[f][0] for f in freq_dict]\n",
    "    p0 = [freq_dict[f][1] for f in freq_dict]\n",
    "    \n",
    "    alpha = []\n",
    "    for x in freq_dict:\n",
    "        p_x = freq_dict[x][0]\n",
    "        p0_x = freq_dict[x][1]\n",
    "        alpha_x = 1 - d0 / d * p_x / p0_x\n",
    "        alpha.append(alpha_x)\n",
    "    return alpha"
   ]
  },
  {
   "cell_type": "code",
   "execution_count": 246,
   "id": "unsigned-association",
   "metadata": {},
   "outputs": [],
   "source": [
    "def linear_fit_alpha(alpha, freq_dict):\n",
    "\n",
    "    ## Fits linear model: alpha = f(frequency) => computes asymtotic alpha -> (x=1)\n",
    "    f = list(freq_dict.keys())\n",
    "    model = LinearRegression().fit(np.array(f).reshape(-1, 1), np.array(alpha))\n",
    "    # R^2\n",
    "    rr = model.score(np.array(f).reshape(-1, 1), np.array(alpha))\n",
    "    # k - slope, b - intercept\n",
    "    k, b = model.coef_, model.intercept_\n",
    "\n",
    "    # plot data and the fit\n",
    "    plt.scatter(f, alpha)\n",
    "    plt.plot(f, [x * k + b for x in f], '--', color='red')\n",
    "    plt.xlim(0, 1)\n",
    "    plt.ylim(-1, 1)\n",
    "    plt.xlabel('allele frequency')\n",
    "    plt.ylabel('alpha')\n",
    "    sns.despine(fig=None, ax=None, left=False, bottom=False, offset=None, trim=False)\n",
    "\n",
    "    # extrapolate to x = 1\n",
    "    asympt_alpha = 1 * k + b\n",
    "    return asympt_alpha"
   ]
  },
  {
   "cell_type": "code",
   "execution_count": null,
   "id": "solid-alcohol",
   "metadata": {},
   "outputs": [],
   "source": []
  },
  {
   "cell_type": "code",
   "execution_count": null,
   "id": "excessive-aquatic",
   "metadata": {},
   "outputs": [],
   "source": []
  },
  {
   "cell_type": "code",
   "execution_count": 146,
   "id": "focused-trailer",
   "metadata": {},
   "outputs": [
    {
     "name": "stdout",
     "output_type": "stream",
     "text": [
      "Collecting pysam\n",
      "\u001b[?25l  Downloading https://files.pythonhosted.org/packages/a9/03/fb071afcfc06d711f5526c4858ebeec0ee23d52f0a8bea3bed30d36e14d6/pysam-0.21.0-cp37-cp37m-macosx_10_9_x86_64.whl (5.8MB)\n",
      "\u001b[K     |████████████████████████████████| 5.8MB 2.3MB/s eta 0:00:01\n",
      "\u001b[?25hCollecting cython\n",
      "\u001b[?25l  Downloading https://files.pythonhosted.org/packages/b4/1e/b04422ae7aca5289d027a7a7e322b37bb70b7c9dc42bd97972cbeff939e0/Cython-3.0.2-cp37-cp37m-macosx_10_9_x86_64.whl (3.0MB)\n",
      "\u001b[K     |████████████████████████████████| 3.0MB 858kB/s eta 0:00:01\n",
      "\u001b[?25hInstalling collected packages: cython, pysam\n",
      "Successfully installed cython-3.0.2 pysam-0.21.0\n"
     ]
    }
   ],
   "source": [
    "!pip3 install pysam\n",
    "import pysam"
   ]
  },
  {
   "cell_type": "code",
   "execution_count": 236,
   "id": "approved-kingdom",
   "metadata": {},
   "outputs": [
    {
     "name": "stdout",
     "output_type": "stream",
     "text": [
      "[0.25806451612903225, 0.016129032258064516, 0.20967741935483872, 0.04838709677419355, 0.016129032258064516, 0.05]\n",
      "[0.04838709677419355, 0.047619047619047616]\n"
     ]
    }
   ],
   "source": [
    "## Test get_af_from_vcf.py - exclude later!\n",
    "dir_path = '/Users/osipova/Documents/LabDocs/Brood_parasites_analysis/Extensions_MKT/'\n",
    "vcf_name = 'snpEff.polarized.passed.indInd.picPub.vcf.gz'\n",
    "vcf_data = pysam.VariantFile(dir_path + vcf_name)\n",
    "\n",
    "bed_line = 'CM051081 167553 167829'\n",
    "contig = bed_line.split()[0]\n",
    "start = int(bed_line.split()[1])\n",
    "end = int(bed_line.split()[2])\n",
    "\n",
    "AF_nonsyn = []\n",
    "AF_syn = []\n",
    "for i in vcf_data.fetch(contig, start, end):\n",
    "    POS = i.pos\n",
    "    REF = i.ref\n",
    "    ALT = i.alts[0]\n",
    "    AC = i.info['AC'][0]\n",
    "    AN = i.info['AN']\n",
    "    AA = i.info['AA']\n",
    "    \n",
    "    if AA != REF:\n",
    "        # check if snp wasn't introduced with the outgroup\n",
    "        if (AA == ALT) and (AC != 2):\n",
    "            # flip AC\n",
    "            AC = AN - AC\n",
    "        # exlude if it is new or 3-way to resolve\n",
    "        else:\n",
    "            AC = 0\n",
    "    # remove outgroup from AN\n",
    "    AN = AN - 2\n",
    "    AF = AC / AN\n",
    "    \n",
    "    if (AF != 0) and (AF != 1):\n",
    "        if 'missense_variant' in i.info['ANN'][0]:\n",
    "            AF_nonsyn.append(AF)\n",
    "        elif 'synonymous_variant' in i.info['ANN'][0]:\n",
    "            AF_syn.append(AF)\n",
    "\n",
    "print(AF_nonsyn)\n",
    "print(AF_syn)    "
   ]
  },
  {
   "cell_type": "code",
   "execution_count": 305,
   "id": "lovely-vanilla",
   "metadata": {},
   "outputs": [
    {
     "data": {
      "text/plain": [
       "('XM_054394816.1',\n",
       " '0.016,0.016,0.371,0.032,0.129,0.016,0.113,0.183,0.354,0.032,0.032,0.339,0.323,0.355,0.367,0.383,0.35,0.31,0.31,0.259,0.233,0.468,0.484,0.484,0.484,0.016,0.048,0.29,0.419,0.435,0.13,0.121,0.016,0.065,0.065,0.065,0.065,0.065,0.016,0.016,0.016,0.016,0.258,0.194,0.016,0.033,0.033,0.097,0.113,0.032,0.097,0.1,0.19,0.19,0.19,0.167,0.016,0.694',\n",
       " '0.452,0.452,0.452,0.145,0.129,0.113,0.129,0.145,0.145,0.032,0.016,0.016,0.048,0.065,0.097,0.177,0.183,0.2,0.194,0.048,0.333,0.333,0.259,0.21,0.35,0.339,0.339,0.355,0.355,0.35,0.35,0.35,0.069,0.283,0.484,0.484,0.468,0.468,0.032,0.452,0.355,0.355,0.355,0.355,0.355,0.129,0.35,0.323,0.226,0.032,0.032,0.032,0.048,0.048,0.29,0.29,0.403,0.435,0.435,0.107,0.103,0.083,0.083,0.083,0.033,0.065,0.065,0.065,0.065,0.065,0.032,0.032,0.032,0.016,0.016,0.016,0.226,0.306,0.306,0.306,0.048,0.21,0.258,0.258,0.806,0.161,0.161,0.05,0.033,0.967,0.033,0.097,0.097,0.339,0.661,0.016,0.968,0.032,0.032,0.032,0.048,0.097,0.097,0.097,0.097,0.097,0.097,0.097,0.897,0.1,0.083,0.05,0.966,0.19,0.19,0.81,0.167,0.833,0.032,0.016,0.016,0.016,0.016',\n",
       " 27.0,\n",
       " 8.0,\n",
       " 3.448397393218946e-06,\n",
       " 0.8622848200312989)"
      ]
     },
     "execution_count": 305,
     "metadata": {},
     "output_type": "execute_result"
    }
   ],
   "source": [
    "## Read your data per gene with syn/nonsyn AF\n",
    "# dir_path = '/Users/osipova/Documents/LabDocs/Brood_parasites_analysis/'\n",
    "file_name = 'MK_test_indInd_ncbi/af.gene.longest.mk.tsv'\n",
    "# file_data = glob(dir_path + file_name)[0]\n",
    "# df = pd.read_csv(file_data, sep='\\t')\n",
    "\n",
    "## Read Degenotate table line by line and store in dict\n",
    "mk_dict = {}\n",
    "with open(file_name, 'r') as inf:\n",
    "    for line in inf.readlines():\n",
    "        # exclude header and lines with empty AF fields  \n",
    "        if (not line.startswith('gene')) and (len(line.split()) == 11):\n",
    "            gene = line.split()[0]\n",
    "            t = line.split()[1]\n",
    "            af_nonsyn = line.split()[2]\n",
    "            af_syn = line.split()[3]\n",
    "            dN = float(line.split()[6])\n",
    "            dS = float(line.split()[7])\n",
    "            pval = float(line.split()[8])\n",
    "            ni = line.split()[9]\n",
    "            if ni == 'NaN':\n",
    "                    standard_alpha = ni\n",
    "            else:\n",
    "                standard_alpha = 1 - float(ni)\n",
    "            mk_dict[gene] = (t, af_nonsyn, af_syn, dN, dS, pval, standard_alpha)"
   ]
  },
  {
   "cell_type": "code",
   "execution_count": 310,
   "id": "sophisticated-tiger",
   "metadata": {},
   "outputs": [
    {
     "name": "stdout",
     "output_type": "stream",
     "text": [
      "standard alpha: 0.8622848200312989; asymptotic alpha: [0.6881316]\n"
     ]
    },
    {
     "data": {
      "image/png": "[encoded data removed]",
      "text/plain": [
       "<Figure size 432x288 with 1 Axes>"
      ]
     },
     "metadata": {
      "needs_background": "light"
     },
     "output_type": "display_data"
    }
   ],
   "source": [
    "g = 'CHD5'\n",
    "d = mk_dict[g][3]\n",
    "d0 = mk_dict[g][4]\n",
    "pN_list = [float(i) for i in mk_dict[g][1].split(',')]\n",
    "pS_list = [float(i) for i in mk_dict[g][2].split(',')]\n",
    "standard_alpha = mk_dict[g][6]\n",
    "\n",
    "freq_dict = make_sfs(pN_list, pS_list)\n",
    "alpha = claculate_alpha_x(d, d0, freq_dict)\n",
    "asympt_alpha = linear_fit_alpha(alpha, freq_dict)\n",
    "\n",
    "print('standard alpha: {}; asymptotic alpha: {}'.format(standard_alpha, asympt_alpha))"
   ]
  },
  {
   "cell_type": "code",
   "execution_count": 291,
   "id": "inclusive-discrimination",
   "metadata": {},
   "outputs": [
    {
     "data": {
      "text/plain": [
       "' 0.016,0.016,0.371,0.032,0.129,0.016,0.113,0.183,0.354,0.032,0.032,0.339,0.323,0.355,0.367,0.383,...'"
      ]
     },
     "execution_count": 291,
     "metadata": {},
     "output_type": "execute_result"
    }
   ],
   "source": [
    "pd.set_option('display.max_colwidth', 100)\n",
    "\n",
    "gene_info['af_nonsyn'].to_string(index=False)\n"
   ]
  },
  {
   "cell_type": "code",
   "execution_count": 289,
   "id": "received-fifty",
   "metadata": {},
   "outputs": [
    {
     "data": {
      "text/plain": [
       "50"
      ]
     },
     "execution_count": 289,
     "metadata": {},
     "output_type": "execute_result"
    }
   ],
   "source": [
    "len(df[df['gene'] == 'CHD5']['af_nonsyn']c\n"
   ]
  },
  {
   "cell_type": "code",
   "execution_count": 274,
   "id": "constitutional-therapist",
   "metadata": {},
   "outputs": [
    {
     "data": {
      "text/plain": [
       "'0.017,0.048,0.016,0.016,0.016,0.435,0.113,0.032,0.403,0.016,0.5,0.645,0.016,0.016,0.032,0.016,0.065,0.081,0.016,0.435,0.048,0.097,0.355,0.016,0.613,0.613,0.017,0.016,0.016,0.032'"
      ]
     },
     "execution_count": 274,
     "metadata": {},
     "output_type": "execute_result"
    }
   ],
   "source": [
    "df['af_nonsyn'][0]"
   ]
  },
  {
   "cell_type": "code",
   "execution_count": null,
   "id": "operational-memory",
   "metadata": {},
   "outputs": [],
   "source": []
  }
 ],
 "metadata": {
  "kernelspec": {
   "display_name": "Python 3",
   "language": "python",
   "name": "python3"
  },
  "language_info": {
   "codemirror_mode": {
    "name": "ipython",
    "version": 3
   },
   "file_extension": ".py",
   "mimetype": "text/x-python",
   "name": "python",
   "nbconvert_exporter": "python",
   "pygments_lexer": "ipython3",
   "version": "3.7.5"
  }
 },
 "nbformat": 4,
 "nbformat_minor": 5
}
