{
 "cells": [
  {
   "cell_type": "code",
   "execution_count": 111,
   "id": "welcome-trading",
   "metadata": {},
   "outputs": [],
   "source": [
    "%matplotlib inline\n",
    "import numpy as np\n",
    "from glob import glob\n",
    "import pandas as pd\n",
    "from matplotlib import pyplot as plt\n",
    "import seaborn as sns\n",
    "import matplotlib\n",
    "import statsmodels.stats.multitest as smt\n",
    "matplotlib.rcParams['pdf.fonttype'] = 42\n",
    "matplotlib.rcParams['ps.fonttype'] = 42\n",
    "from scipy import stats\n",
    "from sklearn.linear_model import LinearRegression"
   ]
  },
  {
   "cell_type": "code",
   "execution_count": 9,
   "id": "israeli-frank",
   "metadata": {},
   "outputs": [
    {
     "data": {
      "image/png": "[encoded data removed]",
      "text/plain": [
       "<Figure size 432x288 with 1 Axes>"
      ]
     },
     "metadata": {
      "needs_background": "light"
     },
     "output_type": "display_data"
    }
   ],
   "source": [
    "## Check sample data from Haller & Messer 2017 (https://github.com/MesserLab/asymptoticMK/tree/master)\n",
    "dir_path = '/Users/osipova/Documents/LabDocs/Brood_parasites_analysis/Extensions_MKT/'\n",
    "file_name = 'sample_polymorphism_levels.tsv'\n",
    "file_data = glob(dir_path + file_name)[0]\n",
    "df = pd.read_csv(file_data, sep='\\t') \n",
    "df['ratio'] = df['pN'] / df['pS']\n",
    "\n",
    "# sns.scatterplot(data=df, x='x', y='pN', linewidth=0)\n",
    "# sns.scatterplot(data=df, x='x', y='pS', linewidth=0)\n",
    "sns.scatterplot(data=df, x='x', y='ratio', linewidth=0)\n",
    "sns.despine(fig=None, ax=None, left=False, bottom=False, offset=None, trim=False)\n"
   ]
  },
  {
   "cell_type": "code",
   "execution_count": 38,
   "id": "noted-helen",
   "metadata": {},
   "outputs": [
    {
     "name": "stdout",
     "output_type": "stream",
     "text": [
      "[31  9 12  5  1]\n",
      "[0.016  0.1516 0.2872 0.4228 0.5584 0.694 ]\n",
      "[66 22 11 23 11]\n",
      "[0.016  0.1096 0.2032 0.2968 0.3904 0.484 ]\n"
     ]
    },
    {
     "data": {
      "text/plain": [
       "<matplotlib.axes._subplots.AxesSubplot at 0x147df8550>"
      ]
     },
     "execution_count": 38,
     "metadata": {},
     "output_type": "execute_result"
    },
    {
     "data": {
      "image/png": "[encoded data removed]",
      "text/plain": [
       "<Figure size 432x288 with 1 Axes>"
      ]
     },
     "metadata": {
      "needs_background": "light"
     },
     "output_type": "display_data"
    }
   ],
   "source": [
    "pN = '0.017,0.048,0.016,0.016,0.016,0.435,0.113,0.032,0.403,0.016,0.5,0.645,0.016,0.016,0.032,0.016,0.065,0.081,0.016,0.435,0.048,0.097,0.355,0.016,0.613,0.613,0.017,0.016,0.016,0.032'\n",
    "pS = '0.177,0.016,0.081,0.145,0.145,0.016,0.968,0.016,0.032,0.016,0.065,0.016,0.016,0.129,0.016,0.081,0.016,0.081,0.016,0.161'\n",
    "\n",
    "pN = '0.016,0.016,0.371,0.032,0.129,0.016,0.113,0.183,0.354,0.032,0.032,0.339,0.323,0.355,0.367,0.383,0.35,0.31,0.31,0.259,0.233,0.468,0.484,0.484,0.484,0.016,0.048,0.29,0.419,0.435,0.13,0.121,0.016,0.065,0.065,0.065,0.065,0.065,0.016,0.016,0.016,0.016,0.258,0.194,0.016,0.033,0.033,0.097,0.113,0.032,0.097,0.1,0.19,0.19,0.19,0.167,0.016,0.694'\n",
    "pS = '0.452,0.452,0.452,0.145,0.129,0.113,0.129,0.145,0.145,0.032,0.016,0.016,0.048,0.065,0.097,0.177,0.183,0.2,0.194,0.048,0.333,0.333,0.259,0.21,0.35,0.339,0.339,0.355,0.355,0.35,0.35,0.35,0.069,0.283,0.484,0.484,0.468,0.468,0.032,0.452,0.355,0.355,0.355,0.355,0.355,0.129,0.35,0.323,0.226,0.032,0.032,0.032,0.048,0.048,0.29,0.29,0.403,0.435,0.435,0.107,0.103,0.083,0.083,0.083,0.033,0.065,0.065,0.065,0.065,0.065,0.032,0.032,0.032,0.016,0.016,0.016,0.226,0.306,0.306,0.306,0.048,0.21,0.258,0.258,0.258,0.194,0.161,0.161,0.05,0.033,0.033,0.033,0.097,0.097,0.097,0.339,0.339,0.339,0.016,0.032,0.032,0.032,0.032,0.032,0.032,0.048,0.097,0.097,0.097,0.097,0.097,0.097,0.097,0.097,0.103,0.1,0.083,0.05,0.034,0.034,0.19,0.19,0.19,0.19,0.167,0.167,0.167,0.15,0.032,0.016,0.016,0.016,0.016'\n",
    "\n",
    "pN_list = [float(i) for i in pN.split(',')]\n",
    "pS_list = [float(i) for i in pS.split(',')]\n",
    "\n",
    "# W = 1 / len(l) * 5\n",
    "hist_pN, bin_edges_pN = np.histogram(pN_list, bins=5)\n",
    "hist_pS, bin_edges_pS = np.histogram(pS_list, bins=5)\n",
    "print(hist_pN)\n",
    "print(bin_edges_pN)\n",
    "print(hist_pS)\n",
    "print(bin_edges_pS)\n",
    "\n",
    "sns.histplot(pN_list, binwidth=0.1, color='red', alpha=0.5)\n",
    "sns.histplot(pS_list, binwidth=0.1, color='blue', alpha=0.5)"
   ]
  },
  {
   "cell_type": "code",
   "execution_count": null,
   "id": "iraqi-heading",
   "metadata": {},
   "outputs": [],
   "source": []
  },
  {
   "cell_type": "code",
   "execution_count": 95,
   "id": "judicial-discount",
   "metadata": {},
   "outputs": [],
   "source": [
    "def split_into_bins(l, min_x=0, max_x=0.9, nbin=8):\n",
    "    \n",
    "    ## Takes a list and puts it into bins\n",
    "    data = np.array(l)\n",
    "    bins = np.linspace(min_x, max_x, nbin)\n",
    "    digitized = np.digitize(data, bins)\n",
    "    bin_counts = [digitized.tolist().count(i) for i in range(1, len(bins))]\n",
    "    return bin_counts"
   ]
  },
  {
   "cell_type": "code",
   "execution_count": 106,
   "id": "choice-peninsula",
   "metadata": {},
   "outputs": [
    {
     "name": "stdout",
     "output_type": "stream",
     "text": [
      "0.1\t29\t67\n",
      "0.23\t9\t25\n",
      "0.37\t13\t30\n",
      "0.5\t6\t11\n"
     ]
    }
   ],
   "source": [
    "pN_bins = split_into_bins(pN_list)\n",
    "pS_bins = split_into_bins(pS_list)\n",
    "\n",
    "freq_dict = {}\n",
    "i = 0\n",
    "for freq in bins:\n",
    "    if (pS_bins[i] != 0) and (pN_bins[i] != 0):\n",
    "        freq_dict[freq] = (pN_bins[i], pS_bins[i])\n",
    "    i += 1\n",
    "\n",
    "for freq in freq_dict:\n",
    "    print('{}\\t{}\\t{}'.format(round(freq, 2), freq_dict[freq][0], freq_dict[freq][1]))"
   ]
  },
  {
   "cell_type": "code",
   "execution_count": 107,
   "id": "veterinary-punch",
   "metadata": {},
   "outputs": [],
   "source": [
    "f = [0.1, 0.23, 0.37, 0.5]\n",
    "p = [29, 9, 13, 6]\n",
    "p0 = [67, 25, 30, 11]\n",
    "d = 8\n",
    "d0 = 27"
   ]
  },
  {
   "cell_type": "code",
   "execution_count": 110,
   "id": "confidential-prevention",
   "metadata": {},
   "outputs": [
    {
     "data": {
      "text/plain": [
       "[-0.46082089552238803,\n",
       " -0.21500000000000008,\n",
       " -0.4624999999999999,\n",
       " -0.8409090909090908]"
      ]
     },
     "execution_count": 110,
     "metadata": {},
     "output_type": "execute_result"
    }
   ],
   "source": [
    "alpha = []\n",
    "for x in freq_dict:\n",
    "    p_x = freq_dict[x][0]\n",
    "    p0_x = freq_dict[x][1]\n",
    "    alpha_x = 1 - d0 / d * p_x / p0_x\n",
    "    alpha.append(alpha_x)\n",
    "    \n",
    "alpha"
   ]
  },
  {
   "cell_type": "code",
   "execution_count": 126,
   "id": "confused-placement",
   "metadata": {},
   "outputs": [
    {
     "data": {
      "text/plain": [
       "[<matplotlib.lines.Line2D at 0x149f7ca50>]"
      ]
     },
     "execution_count": 126,
     "metadata": {},
     "output_type": "execute_result"
    },
    {
     "data": {
      "image/png": "[encoded data removed]",
      "text/plain": [
       "<Figure size 432x288 with 1 Axes>"
      ]
     },
     "metadata": {
      "needs_background": "light"
     },
     "output_type": "display_data"
    }
   ],
   "source": [
    "## Fit linear model: alpha = f(frequency)\n",
    "model = LinearRegression().fit(np.array(f).reshape(-1, 1), np.array(alpha))\n",
    "## R^2\n",
    "rr = model.score(np.array(f).reshape(-1, 1), np.array(alpha))\n",
    "## k - slope, b - intercept\n",
    "k, b = model.coef_, model.intercept_\n",
    "\n",
    "\n",
    "plt.scatter(f, alpha)\n",
    "plt.plot(f, [x * k + b for x in f])"
   ]
  },
  {
   "cell_type": "code",
   "execution_count": null,
   "id": "raising-syracuse",
   "metadata": {},
   "outputs": [],
   "source": []
  },
  {
   "cell_type": "code",
   "execution_count": null,
   "id": "nearby-shepherd",
   "metadata": {},
   "outputs": [],
   "source": []
  },
  {
   "cell_type": "code",
   "execution_count": null,
   "id": "satisfied-closing",
   "metadata": {},
   "outputs": [],
   "source": []
  }
 ],
 "metadata": {
  "kernelspec": {
   "display_name": "Python 3",
   "language": "python",
   "name": "python3"
  },
  "language_info": {
   "codemirror_mode": {
    "name": "ipython",
    "version": 3
   },
   "file_extension": ".py",
   "mimetype": "text/x-python",
   "name": "python",
   "nbconvert_exporter": "python",
   "pygments_lexer": "ipython3",
   "version": "3.7.5"
  }
 },
 "nbformat": 4,
 "nbformat_minor": 5
}
